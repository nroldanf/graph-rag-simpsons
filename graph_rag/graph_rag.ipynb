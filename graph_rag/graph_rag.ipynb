{
 "cells": [
  {
   "cell_type": "markdown",
   "metadata": {},
   "source": [
    "# GraphRAG Implementation with LlamaIndex\n",
    "\n",
    "[GraphRAG (Graphs + Retrieval Augmented Generation)](https://www.microsoft.com/en-us/research/project/graphrag/) combines the strengths of Retrieval Augmented Generation (RAG) and Query-Focused Summarization (QFS) to effectively handle complex queries over large text datasets. While RAG excels in fetching precise information, it struggles with broader queries that require thematic understanding, a challenge that QFS addresses but cannot scale well. GraphRAG integrates these approaches to offer responsive and thorough querying capabilities across extensive, diverse text corpora.\n",
    "\n",
    "This notebook provides guidance on constructing the GraphRAG pipeline using the LlamaIndex PropertyGraph abstractions using Neo4J."
   ]
  },
  {
   "cell_type": "markdown",
   "metadata": {},
   "source": [
    "## Setup LLM and embedding models\n",
    "\n",
    "- LLM used for indexing and querying\n",
    "- Embedding model for embeddings calculation"
   ]
  },
  {
   "cell_type": "code",
   "execution_count": 1,
   "metadata": {},
   "outputs": [],
   "source": [
    "import yaml\n",
    "\n",
    "# load cofig.yaml\n",
    "with open(\"../config.yaml\", \"r\") as f:\n",
    "\tconfig = yaml.safe_load(f)"
   ]
  },
  {
   "cell_type": "code",
   "execution_count": 2,
   "metadata": {},
   "outputs": [
    {
     "data": {
      "text/plain": [
       "{'OLLAMA_EMBEDDING_MODEL': 'bge-m3:latest', 'OLLAMA_LLM_MODEL': 'gemma3n:e4b'}"
      ]
     },
     "execution_count": 2,
     "metadata": {},
     "output_type": "execute_result"
    }
   ],
   "source": [
    "config"
   ]
  },
  {
   "cell_type": "code",
   "execution_count": 3,
   "metadata": {},
   "outputs": [],
   "source": [
    "from llama_index.llms.ollama import Ollama\n",
    "\n",
    "llm = Ollama(\n",
    "    model=config[\"OLLAMA_LLM_MODEL\"], \n",
    "    request_timeout=7200.0\n",
    ")"
   ]
  },
  {
   "cell_type": "code",
   "execution_count": 4,
   "metadata": {},
   "outputs": [],
   "source": [
    "from llama_index.embeddings.ollama import OllamaEmbedding\n",
    "\n",
    "ollama_embedding = OllamaEmbedding(\n",
    "    model_name=config[\"OLLAMA_EMBEDDING_MODEL\"],\n",
    "    base_url=\"http://localhost:11434\",\n",
    ")"
   ]
  },
  {
   "cell_type": "markdown",
   "metadata": {},
   "source": [
    "# Indexing"
   ]
  },
  {
   "cell_type": "markdown",
   "metadata": {},
   "source": [
    "## Source Documents →Text Chunks"
   ]
  },
  {
   "cell_type": "markdown",
   "metadata": {},
   "source": [
    "Prepare documents as required by LlamaIndex"
   ]
  },
  {
   "cell_type": "code",
   "execution_count": 5,
   "metadata": {},
   "outputs": [
    {
     "name": "stdout",
     "output_type": "stream",
     "text": [
      "Loaded 6722 characters\n",
      "Loaded 600 episodes\n",
      "Loaded 4459 locations\n",
      "Loaded 158271 script lines\n"
     ]
    }
   ],
   "source": [
    "import pandas as pd\n",
    "import os\n",
    "\n",
    "files_path = \"../data/simpsons/\"\n",
    "\n",
    "characters_df = pd.read_csv(os.path.join(files_path, 'simpsons_characters.csv'))\n",
    "episodes_df = pd.read_csv(os.path.join(files_path, 'simpsons_episodes.csv'))\n",
    "locations_df = pd.read_csv(os.path.join(files_path, 'simpsons_locations.csv'))\n",
    "script_lines_df = pd.read_csv(\n",
    "    os.path.join(files_path, 'simpsons_script_lines.csv'),\n",
    "    quotechar='\"',\n",
    "    dtype={\n",
    "        \"speaking_line\": \"string\", \n",
    "        \"character_id\": \"string\", \n",
    "    },\n",
    "    na_values=[\"\", \"NaN\"],\n",
    "    low_memory=False\n",
    ")\n",
    "\n",
    "# speaking_line to boolean\n",
    "script_lines_df[\"speaking_line\"] = script_lines_df[\"speaking_line\"].map({\"TRUE\": True, \"FALSE\": False})\n",
    "\n",
    "# character_id to int64 with support for NaN\n",
    "script_lines_df[\"character_id\"] = pd.to_numeric(script_lines_df[\"character_id\"], errors=\"coerce\").astype(\"Int64\")\n",
    "\n",
    "\n",
    "print(f\"Loaded {len(characters_df)} characters\")\n",
    "print(f\"Loaded {len(episodes_df)} episodes\")\n",
    "print(f\"Loaded {len(locations_df)} locations\")\n",
    "print(f\"Loaded {len(script_lines_df)} script lines\")"
   ]
  },
  {
   "cell_type": "code",
   "execution_count": 6,
   "metadata": {},
   "outputs": [],
   "source": [
    "episodes_df.sort_values(by=[\"season\", \"id\"], inplace=True)\n",
    "script_lines_df.sort_values(by=[\"episode_id\", \"number\"], inplace=True)"
   ]
  },
  {
   "cell_type": "markdown",
   "metadata": {},
   "source": [
    "Cross script lines data with characters, episodes and locations."
   ]
  },
  {
   "cell_type": "code",
   "execution_count": 7,
   "metadata": {},
   "outputs": [],
   "source": [
    "# Use the episode_id from script_lines_df to get the episode title season and the number_in_season from episodes_df\n",
    "merged_lines_df = script_lines_df.merge(\n",
    "  episodes_df[[\"id\", \"title\", \"season\", \"number_in_season\", \"number_in_series\"]],\n",
    "  left_on=\"episode_id\",\n",
    "  right_on=\"id\",\n",
    "  how=\"left\",\n",
    "  suffixes=(\"\", \"_episode\"),\n",
    ")\n",
    "# use the location_id from script_lines_df to get the location name from locations_df\n",
    "merged_lines_df = merged_lines_df.merge(\n",
    "  locations_df[[\"id\", \"normalized_name\"]],\n",
    "  left_on=\"location_id\",\n",
    "  right_on=\"id\",\n",
    "  how=\"left\",\n",
    "  suffixes=(\"\", \"_location\"),\n",
    ")\n",
    "# rename the column to \"location_name\"\n",
    "merged_lines_df.rename(columns={\"normalized_name\": \"location_name\"}, inplace=True)\n",
    "# use the character_id from script_lines_df to get the character name from characters_df\n",
    "\n",
    "# concatenate all the raw_text when speaking_line == True or true into a single string\n",
    "# for a given episode_id\n",
    "merged_lines_df[\"speaking_line\"] = merged_lines_df[\"speaking_line\"].astype(bool)"
   ]
  },
  {
   "cell_type": "markdown",
   "metadata": {},
   "source": [
    "`get_episode_text` is a function that given the episode_id will create txt files which content will be documents that we will concatenate."
   ]
  },
  {
   "cell_type": "code",
   "execution_count": 9,
   "metadata": {},
   "outputs": [],
   "source": [
    "def get_episode_text(episode_id):\n",
    "\tepisode_lines = merged_lines_df[merged_lines_df[\"episode_id\"] == episode_id]\n",
    "\tepisode_lines = episode_lines[~episode_lines[\"normalized_text\"].isna()]\n",
    "\t# drop those where normalized_name is NaN\n",
    "\tepisode_lines = episode_lines.dropna()\n",
    "\tspeaking_lines = episode_lines[episode_lines[\"speaking_line\"]]\n",
    "\tlocations = speaking_lines[\"location_name\"].tolist()\n",
    "\tcharacters = speaking_lines[\"raw_character_text\"].str.lower().values\n",
    "\ttext_lines = speaking_lines[\"normalized_text\"].tolist()\n",
    "\t# Concatenate every location name from locations list with the corresponding speaking line from text_lines list and character from characters list\n",
    "\t# such as: \"[location] character_name: speaking line\"\n",
    "\ttext_lines = [f\"[{loc}] ({char}): {text}\" for loc, char, text in zip(locations, characters, text_lines)]\n",
    "\t# Join all the text lines into a single string, separated by newlines\n",
    "\treturn f\"\\n\".join(text_lines)"
   ]
  },
  {
   "cell_type": "code",
   "execution_count": 10,
   "metadata": {},
   "outputs": [
    {
     "name": "stdout",
     "output_type": "stream",
     "text": [
      "36 episodes not written, check 'skipped_episodes.json' file for more info\n"
     ]
    }
   ],
   "source": [
    "import json\n",
    "\n",
    "output_dir = \"../output\"\n",
    "os.makedirs(output_dir, exist_ok=True)\n",
    "# Episodes ids to generate scripts for\n",
    "\n",
    "written_episodes = []\n",
    "skipped_episodes = []\n",
    "\n",
    "episode_ids = episodes_df['id'].to_list()\n",
    "for episode_id in episode_ids:\n",
    "    if episode_id not in merged_lines_df[\"episode_id\"].values:\n",
    "        skipped_episodes.append({\n",
    "            \"episode_id\": episode_id,\n",
    "            \"reason\": \"no script lines\"\n",
    "        })\n",
    "        continue\n",
    "\n",
    "    episode_text = get_episode_text(episode_id)\n",
    "\n",
    "    title_row = merged_lines_df[merged_lines_df[\"episode_id\"] == episode_id]\n",
    "\n",
    "    # skip if no usable lines (e.g. only NaNs)\n",
    "    if title_row.empty or not episode_text.strip():\n",
    "        print(f\"Skipping episode {episode_id} (no valid lines)\")\n",
    "        skipped_episodes.append({\n",
    "            \"episode_id\": episode_id,\n",
    "            \"reason\": \"no valid lines\"\n",
    "        })\n",
    "        continue\n",
    "\n",
    "    title = title_row[\"title\"].iloc[0]\n",
    "    season = title_row[\"season\"].iloc[0]\n",
    "    number_in_season = title_row[\"number_in_season\"].iloc[0]\n",
    "    number_in_series = title_row[\"number_in_series\"].iloc[0]\n",
    "\n",
    "    episode_text = f\"Season: {season}, Episode: {number_in_season}, Episode in series: {number_in_series}\\n\\n{episode_text}\"\n",
    "    episode_text = f\"Title: {title}\\n{episode_text}\"\n",
    "    written_episodes.append(episode_id)\n",
    "\n",
    "# save into a file\t\n",
    "    with open(f\"{output_dir}/scripts/season_{season}_episode_{episode_id}_text.txt\", \"w\") as f:\n",
    "            f.write(episode_text)\n",
    "\n",
    "with open(f\"{output_dir}/skipped_episodes.json\", \"w\") as f:\n",
    "    json.dump(skipped_episodes, f, indent=2)\n",
    "    \n",
    "print(len(skipped_episodes),\"episodes not written, check 'skipped_episodes.json' file for more info\")"
   ]
  },
  {
   "cell_type": "markdown",
   "metadata": {},
   "source": [
    "Prepare documents as required by LlamaIndex"
   ]
  },
  {
   "cell_type": "code",
   "execution_count": 12,
   "metadata": {},
   "outputs": [
    {
     "name": "stdout",
     "output_type": "stream",
     "text": [
      "season_6_episode_128_text.txt\n",
      "season_7_episode_129_text.txt\n"
     ]
    }
   ],
   "source": [
    "from llama_index.core import Document\n",
    "\n",
    "documents = []\n",
    "# Documents to index\n",
    "all_docs_paths = [\n",
    "    \"season_6_episode_128_text.txt\",\n",
    "    \"season_7_episode_129_text.txt\",\n",
    "]\n",
    "for doc_path in all_docs_paths:\n",
    "\tprint(doc_path)\n",
    "\twith open(f\"../output/scripts/{doc_path}\", \"r\") as f:\n",
    "\t\ttext = f.read()\n",
    "\t\tdocuments.append(Document(text=text))"
   ]
  },
  {
   "cell_type": "code",
   "execution_count": 13,
   "metadata": {},
   "outputs": [],
   "source": [
    "from llama_index.core.node_parser import SentenceSplitter\n",
    "\n",
    "splitter = SentenceSplitter(\n",
    "    chunk_size=1024,\n",
    "    chunk_overlap=20,\n",
    ")\n",
    "# Nodes represent chunks of source documents in Llamaindex\n",
    "nodes = splitter.get_nodes_from_documents(documents)"
   ]
  },
  {
   "cell_type": "code",
   "execution_count": 14,
   "metadata": {},
   "outputs": [
    {
     "data": {
      "text/plain": [
       "[TextNode(id_='ccea6e02-d936-437f-949c-4409cc3b916f', embedding=None, metadata={}, excluded_embed_metadata_keys=[], excluded_llm_metadata_keys=[], relationships={<NodeRelationship.SOURCE: '1'>: RelatedNodeInfo(node_id='dfd9c503-ae01-4afc-9fa0-898390082257', node_type=<ObjectType.DOCUMENT: '4'>, metadata={}, hash='8fcaf89cbdc3e38ba9eddd8003bcb86543edfb11415485c73a211d4fc5fbdd67'), <NodeRelationship.NEXT: '3'>: RelatedNodeInfo(node_id='59d35789-92ce-4cd6-a22e-4ede20f56b23', node_type=<ObjectType.TEXT: '1'>, metadata={}, hash='b6f07104949e6edcb09e3f90759ff74e3d213020c7b9aff780b9aead6e90eb5e')}, metadata_template='{key}: {value}', metadata_separator='\\n', text=\"Title: Who Shot Mr. Burns? (Part One)\\nSeason: 6, Episode: 25, Episode in series: 128\\n\\n[springfield elementary school] (seymour skinner): ah is there nothing so intoxicating as the school hallway at early morn\\n[springfield elementary school] (seymour skinner): hmm school normally doesnt smell so rank\\n[springfield elementary school] (seymour skinner): ahh washbasin fresh that funk must be coming from one of the classrooms\\n[springfield elementary school] (seymour skinner): poor fellow crushed by his own water bottle\\n[springfield elementary school] (seymour skinner): willie sometime over the holiday weekend the beloved grade four gerbil er superdude lost his life i need you to air out the classroom and give superdude a proper burial\\n[springfield elementary school] (groundskeeper willie): yer lucky yer getting a decent burial me own father got thrown in the bog\\n[springfield elementary school] (groundskeeper willie): what in the name of st ephesiocritus\\n[springfield elementary school] (bart simpson): yuck what reeks\\n[springfield elementary school] (nelson muntz): smells like one of van houtens\\n[springfield elementary school] (milhouse van houten): it does not\\n[springfield elementary school] (ralph wiggum): miss hoover the floor is shaking\\n[springfield elementary school] (miss hoover): ralph remember the time you thought the --\\n[springfield elementary school] (ralph wiggum): mommmmy\\n[springfield nuclear power plant] (c. montgomery burns): now before we adjourn gentlemen i have one last matter of utmost importance i need to send this parcel with the profit projections to pete porter in pasadena - and it absolutely positively has to be there overnight\\n[springfield nuclear power plant] (executive #1): pete porter pass it on\\n[springfield nuclear power plant] (executive #2): pasadena promptly\\n[springfield nuclear power plant] (executive #3): package for parcel processing pronto\\n[springfield nuclear power plant] (waylon smithers): perk up prendergast profoundly pressing package of power plant profit projections for pete porter in pasadena\\n[springfield nuclear power plant] (prendergast): priority\\n[springfield nuclear power plant] (waylon smithers): precisely\\n[springfield nuclear power plant] (homer simpson): heres your package mr burns\\n[springfield nuclear power plant] (c. montgomery burns): my name is the return address you senseless dunderpate smithers who is this nincompoop\\n[springfield nuclear power plant] (homer's brain): ive worked here for ten years and my boss doesnt even know my name well thats gonna change right now my name is homer j simp--\\n[springfield nuclear power plant] (homer simpson): --son\\n[springfield nuclear power plant] (c. montgomery burns): sounded large when i ordered it i cant make hide nor hair of these metric booby-traps\\n[springfield elementary school roof] (seymour skinner): my lord such destruction\\n[springfield elementary school roof] (seymour skinner): superintendent chalmers how are you going\\n[springfield elementary school roof] (gary chalmers): why is it when i heard the word school and the word exploded i immediately thought of the word skinner\\n[springfield elementary school roof] (seymour skinner): i-i-i-i-i\\n[springfield elementary school roof] (engineer): congratulations gentlemen your custodian struck oil youre standing on top of the richest elementary school in the state\\n[springfield elementary school roof] (engineer): we also found this\\n[springfield elementary school roof] (seymour skinner): thank you superdude\\n[springfield nuclear power plant] (c. montgomery burns): bah a non-profit organization with oil i wont allow it an oil well doesnt belong in the hands of betsy bleedingheart and maynard g muskie-vote\\n[springfield nuclear power plant] (waylon smithers): sir have you had enough exercise for this morning\\n[springfield nuclear power plant] (c. montgomery burns): no lets do another twenty miles\\n[springfield nuclear power plant] (waylon smithers): ugh\\n[springfield nuclear power plant] (c. montgomery burns): hello lenny carl guillermo\\n[springfield nuclear power plant] (c.\", mimetype='text/plain', start_char_idx=0, end_char_idx=4069, metadata_seperator='\\n', text_template='{metadata_str}\\n\\n{content}'),\n",
       " TextNode(id_='59d35789-92ce-4cd6-a22e-4ede20f56b23', embedding=None, metadata={}, excluded_embed_metadata_keys=[], excluded_llm_metadata_keys=[], relationships={<NodeRelationship.SOURCE: '1'>: RelatedNodeInfo(node_id='dfd9c503-ae01-4afc-9fa0-898390082257', node_type=<ObjectType.DOCUMENT: '4'>, metadata={}, hash='8fcaf89cbdc3e38ba9eddd8003bcb86543edfb11415485c73a211d4fc5fbdd67'), <NodeRelationship.PREVIOUS: '2'>: RelatedNodeInfo(node_id='ccea6e02-d936-437f-949c-4409cc3b916f', node_type=<ObjectType.TEXT: '1'>, metadata={}, hash='f20325eea82343cc81f1f03b026c92b64ef1e030d0f59d4a74c445bce404e2c1'), <NodeRelationship.NEXT: '3'>: RelatedNodeInfo(node_id='d53b6ff3-6ad9-488a-a2c2-db59d7e6969a', node_type=<ObjectType.TEXT: '1'>, metadata={}, hash='61c5ed2866870c4229bf79d9254de92b2588528af227322cb1b4a7f7ea765c90')}, metadata_template='{key}: {value}', metadata_separator='\\n', text='montgomery burns): hello eh doer uh ooohumm\\n[springfield nuclear power plant] (lenny leonard): dont take it so hard homer hes always screwin up peoples names\\n[springfield nuclear power plant] (guillermo): yeah at the picnic he thought my son reynaldo was my son rolando can you believe that\\n[springfield elementary school] (seymour skinner): superintendent we made the front page today\\n[springfield elementary school] (gary chalmers): uh whats that say under your hand there\\n[springfield elementary school] (seymour skinner): hm its an unrelated article\\n[springfield elementary school] (gary chalmers): its an unrelated article within the banner headline\\n[springfield elementary school] (seymour skinner): yes now to re-direct our conversation slightly i had a few ideas on how to spend this oil money\\n[springfield elementary school] (gary chalmers): well we could give each student a full college scholarship\\n[springfield elementary school] (seymour skinner): oh mercy seriously though before we draw up the budget i believe the students and faculty have a few suggestions\\n[springfield elementary school] (groundskeeper willie): i want a crystal bucket for my slop-water oh and a brand new filthy blanket\\n[springfield elementary school] (lunchlady doris): the cafeteria staff is complaining about the mice in the kitchen i want to hire a new staff\\n[springfield elementary school] (lisa simpson): id like to start a jazz program for the music department weve got a really great instructor lined up\\n[springfield elementary school] (gary chalmers): tito puente\\n[springfield elementary school] (lisa simpson): hes ready to give up the drudgery of the professional mambo circuit and settle into a nice teaching job\\n[springfield elementary school] (tito puente): man it will be my pleasure lisa has told me all your students are as bright and dedicated to jazz as she is\\n[springfield elementary school] (lisa simpson): lets go now mr puente\\n[springfield elementary school] (ralph wiggum): chocolate microscopes\\n[springfield elementary school] (otto mann): you know those guitars that are like double guitars you know\\n[springfield elementary school] (seymour skinner): more rubber stamps\\n[springfield elementary school] (voice): principal skinner this is your secretary there is one last student here to see you\\n[springfield elementary school] (seymour skinner): thats odd i dont have a secretary or an intercom but send him in\\n[springfield elementary school] (c. montgomery burns): ahoy there dean i understand youre taking suggestions from students eh well me and my fourth form chums think it would be quite corking if youd sign over your oil well to the local energy concern\\n[springfield elementary school] (seymour skinner): mr burns\\n[springfield elementary school] (c. montgomery burns): bheh\\n[springfield elementary school] (seymour skinner): it was naive of you to think i would mistake this towns most prominent 104 year-old man for one of my elementary school students\\n[springfield elementary school] (c. montgomery burns): i want that oil well ive got a monopoly to maintain i own the electric company and the waterworks plus the hotel on baltic avenue\\n[springfield elementary school] (seymour skinner): that hotels a dump and your monopoly is pathetic the schools oil well is not for sale particularly to a black-hearted scoundrel like yourself\\n[springfield elementary school] (c. montgomery burns): i see then ill just have to at-ttack you\\n[springfield elementary school] (c.', mimetype='text/plain', start_char_idx=4070, end_char_idx=7552, metadata_seperator='\\n', text_template='{metadata_str}\\n\\n{content}'),\n",
       " TextNode(id_='d53b6ff3-6ad9-488a-a2c2-db59d7e6969a', embedding=None, metadata={}, excluded_embed_metadata_keys=[], excluded_llm_metadata_keys=[], relationships={<NodeRelationship.SOURCE: '1'>: RelatedNodeInfo(node_id='dfd9c503-ae01-4afc-9fa0-898390082257', node_type=<ObjectType.DOCUMENT: '4'>, metadata={}, hash='8fcaf89cbdc3e38ba9eddd8003bcb86543edfb11415485c73a211d4fc5fbdd67'), <NodeRelationship.PREVIOUS: '2'>: RelatedNodeInfo(node_id='59d35789-92ce-4cd6-a22e-4ede20f56b23', node_type=<ObjectType.TEXT: '1'>, metadata={}, hash='b6f07104949e6edcb09e3f90759ff74e3d213020c7b9aff780b9aead6e90eb5e'), <NodeRelationship.NEXT: '3'>: RelatedNodeInfo(node_id='c581f4e4-bc28-4661-881f-4e3517673527', node_type=<ObjectType.TEXT: '1'>, metadata={}, hash='39aa6562a97b8c082f6ab062d203b1543b70057912d2f9d14eec4ecfa7153c85')}, metadata_template='{key}: {value}', metadata_separator='\\n', text='montgomery burns): i must have that oil oogh smithers smithers help me subdue this beast\\n[springfield elementary school] (waylon smithers): sorry sir this is all i could find take that and that\\n[springfield elementary school] (seymour skinner): please dont waste those\\n[simpson home] (marge simpson): im happy for the school it sounds like this money is gonna provide a lot of new opportunities\\n[simpson home] (bart simpson): big deal they didnt approve my idea they said it was unfeasible\\n[simpson home] (lisa simpson): it is unfeasible to resurrect the dead bart and even if the three stooges were alive i doubt theyd want to hang around with you\\n[simpson home] (bart simpson): well um yeah i guess theyd probably want to be with their families or something huh\\n[simpson home] (homer simpson): i hate my job i mean whats the point when your boss doesnt even remember your name\\n[simpson home] (marge simpson): i have an idea\\n[simpson home] (homer simpson): what whats your idea\\n[simpson home] (marge simpson): when my father was first trying to catch my mothers eye he sent her a box of candy with his photo in it after that she never forgot him\\n[simpson home] (homer simpson): thats all well and good but its not really your idea is it now marge\\n[springfield nuclear power plant] (c. montgomery burns): thats it frimble about with your widgets and doobobs itll all be a monument to futility when my plan comes to fruition\\n[springfield nuclear power plant] (waylon smithers): sir uh what im about to say violates every sycophantic urge in my body but i wish you would reconsider this isnt a rival company youre battling with its a school people wont stand for it\\n[springfield nuclear power plant] (c. montgomery burns): pish-posh it will be like taking candy from a baby\\n[springfield nuclear power plant] (c. montgomery burns): say that sounds like a larf lets try it right now\\n[springfield nuclear power plant] (waylon smithers): ah ub theres some candy right here sir why dont we eat this instead of stealing\\n[springfield nuclear power plant] (c. montgomery burns): oh very well\\n[springfield nuclear power plant] (waylon smithers): oh look theres a photo in here\\n[springfield nuclear power plant] (c. montgomery burns): hmm yes i believe thats little maggie simpson -- the baby who found my precious teddy-bear bobo oh and theres that ah simpson mutt my former guard dog\\n[springfield nuclear power plant] (c. montgomery burns): ooh uh uh thats b-bart simpson he was my heir for a brief period you know\\n[springfield nuclear power plant] (waylon smithers): yes sir i remember\\n[springfield nuclear power plant] (c. montgomery burns): anything left\\n[springfield nuclear power plant] (waylon smithers): only the sour quince log sir\\n[springfield nuclear power plant] (c. montgomery burns): dispose of it and uh send a thank-you note to marge bart lisa and maggie simpson\\n[springfield elementary school] (seymour skinner): today springfield elementary embarks on a new era an era of unbridled spending where petro-dollars will fuel our wildest educational fantasies these young minds will enjoy every academic advantage until they enter springfield high school which has no oil well\\n[springfield elementary school] (high school student): we got an air hockey table\\n[springfield elementary school] (seymour skinner): fine now to switch on our oil pump for the very first time heres our top student lisa simpson\\n[springfield elementary school] (nelson muntz): nerd\\n[springfield elementary school] (engineer): theres no pressure someone else has tapped this well\\n[springfield elementary school] (tito puente): ay carumba\\n[springfield elementary school] (c. montgomery burns): ah soon that mighty apparatus will burst forth with its precious fluid almost sexual isnt it smithers\\n[springfield elementary school] (waylon smithers): eh\\n[springfield elementary school] (roughneck): oil ho\\n[springfield elementary school] (c.', mimetype='text/plain', start_char_idx=7553, end_char_idx=11465, metadata_seperator='\\n', text_template='{metadata_str}\\n\\n{content}'),\n",
       " TextNode(id_='c581f4e4-bc28-4661-881f-4e3517673527', embedding=None, metadata={}, excluded_embed_metadata_keys=[], excluded_llm_metadata_keys=[], relationships={<NodeRelationship.SOURCE: '1'>: RelatedNodeInfo(node_id='dfd9c503-ae01-4afc-9fa0-898390082257', node_type=<ObjectType.DOCUMENT: '4'>, metadata={}, hash='8fcaf89cbdc3e38ba9eddd8003bcb86543edfb11415485c73a211d4fc5fbdd67'), <NodeRelationship.PREVIOUS: '2'>: RelatedNodeInfo(node_id='d53b6ff3-6ad9-488a-a2c2-db59d7e6969a', node_type=<ObjectType.TEXT: '1'>, metadata={}, hash='61c5ed2866870c4229bf79d9254de92b2588528af227322cb1b4a7f7ea765c90'), <NodeRelationship.NEXT: '3'>: RelatedNodeInfo(node_id='485e7589-3527-49c3-9be7-ef7a484d99f0', node_type=<ObjectType.TEXT: '1'>, metadata={}, hash='d79ecc05b799d0ed7698f67ab4d653828628efd9942897deeb0f10fcbabf54e7')}, metadata_template='{key}: {value}', metadata_separator='\\n', text=\"montgomery burns): huzzah\\n[bart treehouse] (bart simpson): huh wahw\\n[simpson home] (marge simpson): holy christmas\\n[animal hospital] (veterinarian): your dogs condition has been upgraded from stable to frisky and hes free to go his legs should be good as new in a few months but in the meantime hell have to use the wheelabout\\n[animal hospital] (bart simpson): ill get even with whoever did this to you boy i swear it\\n[animal hospital] (veterinarian): oops almost forgot wouldnt want you gnawing on those casts eh boy\\n[animal hospital] (nelson muntz): haw haw\\n[animal hospital] (nelson's parrot): haw haw\\n[springfield elementary school] (seymour skinner): im afraid weve got no legal recourse against mr burns and his slant- drilling operation the oil belongs to whoever pumped it first\\n[springfield elementary school] (groundskeeper willie): what about all the expensive stuff we wanted can we still have it\\n[springfield elementary school] (seymour skinner): no\\n[springfield elementary school] (seymour skinner): in fact to pay for the construction and operation and demolition of our new derrick the school will have to eliminate all non-essential programs music\\n[springfield elementary school] (tito puente): what que\\n[springfield elementary school] (seymour skinner): and maintenance\\n[springfield elementary school] (groundskeeper willie): ill kill that mr burns and wound that mr smithers outta my way\\n[simpson home] (lisa simpson): oh no thats awful mr puente what oh he owns the nuclear power plant yeah id like to settle his hash too\\n[simpson home] (lisa simpson): dad how can you work for a man like mr burns\\n[simpson home] (homer simpson): well hes not all bad he did send me this nice thank-you card\\n[simpson home] (lisa simpson): marge bart lisa and maggie dad this doesnt have your name on it\\n[simpson home] (homer simpson): kids would you step outside for a second\\n[simpson home] (homer simpson): f-f-f-f-f-f-\\n[evergreen terrace] (ned flanders): dear lord thats the loudest profanity ive ever heard\\n[moe tavern] (barney gumble): these fumes arent as fun as beer sure im all dizzy and nauseous but wheres the inflated sense of self-esteem\\n[moe tavern] (moe szyslak): hey if you guys are getting loaded off them fumes im gonna have to charge ya\\n[moe tavern] (male inspector): man alive there are men alive in here\\n[moe tavern] (female inspector): im detecting over twenty different toxins in the air\\n[moe tavern] (male inspector): all right everybody out as long as burns is pumping oil this bar is closed\\n[moe tavern] (moe szyslak): damn burns lemme just get one thing\\n[moe tavern] (barney gumble): me too\\n[moe tavern] (barney gumble): ahhhh now theres the inflated sense of self-esteem\\n[springfield retirement castle] (grampa simpson): earthquake\\n[springfield retirement castle] (grampa simpson): nurse\\n[springfield retirement castle] (other old people): nurse nurse nurse\\n[springfield nuclear power plant] (waylon smithers): well sir youve certainly vanquished all your enemies the elementary school the local tavern the old age home you must be very proud\\n[springfield nuclear power plant] (c. montgomery burns): no not while my greatest nemesis still provides our customers with free light heat and energy i call this enemy the sun\\n[springfield nuclear power plant] (c. montgomery burns): since the beginning of time man has yearned to destroy the sun i will do the next best thing -- block it out\\n[springfield nuclear power plant] (waylon smithers): good god\\n[springfield nuclear power plant] (c. montgomery burns): imagine it smithers electrical lights and heaters running all day long\\n[springfield nuclear power plant] (waylon smithers): but sir every plant and tree will die uh owls will deafen us with incessant hooting the town sundial will be useless\\n[springfield nuclear power plant] (waylon smithers): -ii dont want any part of this project its unconscionably fiendish\\n[springfield nuclear power plant] (c.\", mimetype='text/plain', start_char_idx=11466, end_char_idx=15398, metadata_seperator='\\n', text_template='{metadata_str}\\n\\n{content}'),\n",
       " TextNode(id_='485e7589-3527-49c3-9be7-ef7a484d99f0', embedding=None, metadata={}, excluded_embed_metadata_keys=[], excluded_llm_metadata_keys=[], relationships={<NodeRelationship.SOURCE: '1'>: RelatedNodeInfo(node_id='dfd9c503-ae01-4afc-9fa0-898390082257', node_type=<ObjectType.DOCUMENT: '4'>, metadata={}, hash='8fcaf89cbdc3e38ba9eddd8003bcb86543edfb11415485c73a211d4fc5fbdd67'), <NodeRelationship.PREVIOUS: '2'>: RelatedNodeInfo(node_id='c581f4e4-bc28-4661-881f-4e3517673527', node_type=<ObjectType.TEXT: '1'>, metadata={}, hash='39aa6562a97b8c082f6ab062d203b1543b70057912d2f9d14eec4ecfa7153c85'), <NodeRelationship.NEXT: '3'>: RelatedNodeInfo(node_id='805992e9-6d1e-4438-a2b3-e532fa4ebdc9', node_type=<ObjectType.TEXT: '1'>, metadata={}, hash='bc11202649dad0373bb66f61371979edc77ca9abcdbdf6a8d028f922911f6299')}, metadata_template='{key}: {value}', metadata_separator='\\n', text='montgomery burns): i will not suffer your insubordination there has been a shocking decline in the quality and quantity of your toadying waylon and you will fall into line now\\n[springfield nuclear power plant] (waylon smithers): no no monty i wont not until you step back from the brink of insanity\\n[springfield nuclear power plant] (c. montgomery burns): ill do no such thing youre fired\\n[springfield nuclear power plant] (c. montgomery burns): take that bowl-a-rama take that convenience mart take that nuclear power pla-- oh fiddlesticks\\n[simpson home] (marge simpson): i must say mr burns is being awfully inconsiderate selfish even\\n[simpson home] (bart simpson): burns needs some serious boosta-fazoo right dad dad homer\\n[simpson home] (lisa simpson): sorry grampa its just that for a second it looked like dad had melted\\n[simpson home] (grampa simpson): well get used to it cause im livin here now i aint goin back to the retirement home until they fish my bed outta that sinkhole\\n[simpson home] (marge simpson): strained carrots for maggie strained carrots for grampa\\n[simpson home] (grampa simpson): i want a bib too\\n[simpson car] (imaginary burns #1): smithers who is that ignoramus\\n[simpson car] (imaginary burns #2): smithers who is that lollygagger\\n[simpson car] (imaginary burns #3): who is that blubberpot\\n[simpson car] (ten imaginary burnses): who is that bafflewit lummox puddinghead mooncalf limpnoodle goldbricker drizzlepuss cueball fumblefist galoot\\n[simpson car] (homer simpson): stop it stop it stop it stop it\\n[simpson car] (ten imaginary burnses): look out\\n[simpson car] (homer simpson): what\\n[simpson car] (elderly guard): just a minute\\n[springfield nuclear power plant] (c. montgomery burns): who the devil are you\\n[springfield nuclear power plant] (homer simpson): homer simpson homer simpson shut up homer simpson my name is homer simpson\\n[springfield nuclear power plant] (c. montgomery burns): what what are you talking about clearly make sense man i cant understand a word youre saying youre just babbling incoherently like some sort of\\n[springfield nuclear power plant] (homer simpson): oh youre a dead man oh youre dead youre dead burns\\n[simpson home] (grampa simpson): hey the lamps runnin away\\n[simpson home] (bart simpson): thats my dog man\\n[simpson home] (grampa simpson): so long lamp now stop loafing and help your grampa unpack\\n[simpson home] (bart simpson): wow\\n[simpson home] (grampa simpson): thats my old smith wesson if youre gonna play with it be careful cause its loaded\\n[simpson home] (marge simpson): bart put that down guns are very dangerous and i wont have them in this house\\n[simpson home] (grampa simpson): how can ya have a house without a gun what if a bear came through the door\\n[simpson home] (marge simpson): im going to bury it in the yard where little hands cant get to it\\n[simpson home] (grampa simpson): echt you shoulda fired into the air she woulda run off\\n[springfield town hall] (mayor joe quimby): people take it easy were all upset about mr burns plan to uh block out our sun it is time for decisive action i have here a polite but firm letter to mr burns underlings who with some cajoling will pass it along to him or at least give him the gist of it\\n[springfield town hall] (mayor joe quimby): also it has been brought to my attention that a number of you are stroking guns therefore i will step aside and open up the floor\\n[springfield town hall] (waylon smithers): mr burns was the closest thing i ever had to a friend but he fired me and now i spend my days drinking cheap scotch and watching comedy central\\n[springfield town hall] (dr.', mimetype='text/plain', start_char_idx=15399, end_char_idx=19009, metadata_seperator='\\n', text_template='{metadata_str}\\n\\n{content}'),\n",
       " TextNode(id_='805992e9-6d1e-4438-a2b3-e532fa4ebdc9', embedding=None, metadata={}, excluded_embed_metadata_keys=[], excluded_llm_metadata_keys=[], relationships={<NodeRelationship.SOURCE: '1'>: RelatedNodeInfo(node_id='dfd9c503-ae01-4afc-9fa0-898390082257', node_type=<ObjectType.DOCUMENT: '4'>, metadata={}, hash='8fcaf89cbdc3e38ba9eddd8003bcb86543edfb11415485c73a211d4fc5fbdd67'), <NodeRelationship.PREVIOUS: '2'>: RelatedNodeInfo(node_id='485e7589-3527-49c3-9be7-ef7a484d99f0', node_type=<ObjectType.TEXT: '1'>, metadata={}, hash='d79ecc05b799d0ed7698f67ab4d653828628efd9942897deeb0f10fcbabf54e7'), <NodeRelationship.NEXT: '3'>: RelatedNodeInfo(node_id='e8033895-41a2-4a9d-8c7e-9ce66a2ad696', node_type=<ObjectType.TEXT: '1'>, metadata={}, hash='98f7481922969f729d30aaf839ccf24ab9aa2219b65380130e3de99177360eb4')}, metadata_template='{key}: {value}', metadata_separator='\\n', text='julius hibbert): oh dear god\\n[springfield town hall] (waylon smithers): aw its not that bad i mean i never miss pardon my zinger\\n[springfield town hall] (groundskeeper willie): burns cost me my groundskeepin job at the school and im too superstitious to take the one at the cemetery\\n[springfield town hall] (grampa simpson): a-causa him i lost my room my things and my buddys collection of old sunbathing magazines\\n[springfield town hall] (old jewish man): you bastid\\n[springfield town hall] (moe szyslak): i lost my bar\\n[springfield town hall] (barney gumble): i lost his bar\\n[springfield town hall] (lisa simpson): he robbed the school of music\\n[springfield town hall] (seymour skinner): he robbed the school of financial security\\n[springfield town hall] (tito puente): he robbed the school of tito\\n[springfield town hall] (homer simpson): he cant remember my name\\n[springfield town hall] (marge simpson): hes causing us all to yell\\n[springfield town hall] (bart simpson): look what he did to my best friend\\n[springfield town hall] (milhouse van houten): whug\\n[springfield town hall] (bart simpson): no my dog\\n[springfield town hall] (c. montgomery burns): oh those wheels are squeaking a bit perhaps i could sell him a little oil\\n[springfield town hall] (bart simpson): you twisted old monster\\n[springfield town hall] (c. montgomery burns): nuh-uh-uh\\n[springfield town hall] (c. montgomery burns): ive decided to protect myself ever since i was attacked in my office by an unidentified assailant\\n[springfield town hall] (captain horatio mccallister): arr burns yer scurvy schemes will earn ye a one-way passage to the boneyard\\n[springfield town hall] (ned flanders): uh id like to hear from sideshow mel\\n[springfield town hall] (sideshow mel): ill see to it that mr burns suffers the infernal machinations of hells grim tyrant\\n[springfield town hall] (otto mann): yeah\\n[springfield town hall] (c. montgomery burns): oh you all talk big but who here has the guts to stop me\\n[springfield town hall] (c. montgomery burns): mmm hmm very well one last question have you ever seen the sun set at 300 pm\\n[springfield town hall] (captain horatio mccallister): aye once when i was sailing round the arctic cir\\n[springfield town hall] (c. montgomery burns): shut up you take one last look at the sun springfield\\n[springfield town hall] (krusty the clown): hey hey ive been in reno for six weeks did i miss anything what the\\n[town hall steps] (lunchlady doris): eternal darkness well thats just great\\n[town hall steps] (apu nahasapeemapetilon): listen someones got to get that mr burns uh wheres a gun-toting low-life when you need one\\n[town hall steps] (snake jailbird): sorry i was in the can\\n[town hall steps] (c. montgomery burns): ahhh perpetual twilight bathed in the glow of burns brand electricity\\n[town hall steps] (c. montgomery burns): hello lamp post whatcha knowin ive come to watch your power flowing\\n[springfield town hall] (carl carlson): thats odd mr smithers left his jacket behind\\n[springfield town hall] (otto mann): whoa thats odd principal skinner left his mother behind\\n[springfield town hall] (marge simpson): thats odd wheres homer and bart and lisa and grampa\\n[springfield town hall] (c. montgomery burns): after all these years things are finally starting to go my way i feel like celebrating i\\n[springfield town hall] (c. montgomery burns): oh its you what are you so happy about i see well i think youd better drop it i said drop it get your -- get your hands off--\\n[front of town hall] (marge simpson): where is everybody\\n[front of town hall] (jimbo jones): hey man are you okay\\n[front of town hall] (c.', mimetype='text/plain', start_char_idx=19010, end_char_idx=22635, metadata_seperator='\\n', text_template='{metadata_str}\\n\\n{content}'),\n",
       " TextNode(id_='e8033895-41a2-4a9d-8c7e-9ce66a2ad696', embedding=None, metadata={}, excluded_embed_metadata_keys=[], excluded_llm_metadata_keys=[], relationships={<NodeRelationship.SOURCE: '1'>: RelatedNodeInfo(node_id='dfd9c503-ae01-4afc-9fa0-898390082257', node_type=<ObjectType.DOCUMENT: '4'>, metadata={}, hash='8fcaf89cbdc3e38ba9eddd8003bcb86543edfb11415485c73a211d4fc5fbdd67'), <NodeRelationship.PREVIOUS: '2'>: RelatedNodeInfo(node_id='805992e9-6d1e-4438-a2b3-e532fa4ebdc9', node_type=<ObjectType.TEXT: '1'>, metadata={}, hash='bc11202649dad0373bb66f61371979edc77ca9abcdbdf6a8d028f922911f6299')}, metadata_template='{key}: {value}', metadata_separator='\\n', text='montgomery burns): wont dignify that with response\\n[front of town hall] (patty bouvier): mr burns has been shot\\n[front of town hall] (chief wiggum): just a minute this isnt mr burns at all its a mask\\n[front of town hall] (chief wiggum): oh wait it is burns his wrinkly skin looks looks like a mask\\n[front of town hall] (marge simpson): i dont think well ever know who did this everyone in towns a suspect\\n[front of town hall] (dr. julius hibbert): well i couldnt possibly solve this mystery can you\\n[front of town hall] (chief wiggum): yeah ill give it a shot i mean you know its my job right', mimetype='text/plain', start_char_idx=22636, end_char_idx=23228, metadata_seperator='\\n', text_template='{metadata_str}\\n\\n{content}'),\n",
       " TextNode(id_='23eb7f7d-86af-4236-b154-073d4d4ba881', embedding=None, metadata={}, excluded_embed_metadata_keys=[], excluded_llm_metadata_keys=[], relationships={<NodeRelationship.SOURCE: '1'>: RelatedNodeInfo(node_id='a821d937-df20-4bc1-b6e2-5eb3c7549530', node_type=<ObjectType.DOCUMENT: '4'>, metadata={}, hash='7174de92e8e437ada7f7ebb4a97f106f738b4da294c80af57b6a7f443c766a28'), <NodeRelationship.NEXT: '3'>: RelatedNodeInfo(node_id='2679711a-f5df-421c-a170-071d34d90efe', node_type=<ObjectType.TEXT: '1'>, metadata={}, hash='bec43ca7e77107fb64758bd89051d9e83b39db44ff4875c855691389c862e89c')}, metadata_template='{key}: {value}', metadata_separator='\\n', text=\"Title: Who Shot Mr. Burns? (Part Two)\\nSeason: 7, Episode: 1, Episode in series: 129\\n\\n[smithers apartment] (waylon smithers): ugh my mouth tastes like an ashtray\\n[smithers apartment] (c. montgomery burns): smithers wait your turn theres plenty of hot water for all\\n[smithers apartment] (waylon smithers): sir you werent shot it was all a dream\\n[smithers apartment] (c. montgomery burns): thats right the year is 1965 and you and i are undercover detectives on the hot-rod circuit now lets burn rubber baby\\n[smithers apartment] (announcer): speedway squad in color\\n[smithers apartment] (waylon smithers): wait that was all a dream hey then maybe i havent become a hideous drunken wreck\\n[smithers apartment] (waylon smithers): oh\\n[smithers apartment] (kent brockman): dozens of people are gunned down each day in springfield but until now none of them was important im kent brockman at 3 pm friday local autocrat c montgomery burns was shot following a tense confrontation at town hall\\n[smithers apartment] (kent brockman): burns was rushed to a nearby hospital where he was pronounced dead he was then transferred to a better hospital where doctors upgraded his condition to alive\\n[smithers apartment] (kent brockman): now lets talk to police chief wiggum\\n[smithers apartment] (chief wiggum): oh hiya kent ah right now we are questioning two witnesses who were in the vicinity at the time\\n[springfield police station] (lou): didja see this guy was he anywhere near the parking lot when burns got shot\\n[springfield police station] (eddie): aw its no use they aint talkin\\n[simpson home] (lisa simpson): everyone in springfield had a reason to shoot mr burns even us\\n[simpson home] (lisa simpson): bart he broke your dogs legs grampa he destroyed your home and dad well you kind of went berserk when he couldnt remember your name\\n[simpson home] (homer simpson): berserk is right may i have some iced tea please\\n[simpson home] (bart simpson): arent we forgetting someone sister suspect\\n[simpson home] (lisa simpson): yeah i was just getting to me because of mr burns they canceled my jazz program and my friend tito puente got fired but i could never shoot someone\\n[simpson home] (bart simpson): could so\\n[simpson home] (lisa simpson): could not\\n[simpson home] (bart simpson): could so\\n[simpson home] (lisa simpson): could not\\n[simpson home] (bart simpson): could so\\n[simpson home] (lisa simpson): could not\\n[simpson home] (bart simpson): could so\\n[simpson home] (lisa simpson): could not\\n[simpson home] (homer simpson): kids kids kids as far as daddys concerned youre both potential murderers\\n[simpson home] (marge simpson): the police already have a suspect its mr smithers\\n[simpson home] (grampa simpson): sure smithers hes a good suspect oh i bet hes the one definitely smithers\\n[simpson home] (grampa simpson): yeah smingers did it case closed now wheres my hat im going to the outhouse\\n[simpson home] (lisa simpson): we dont have an outhouse\\n[simpson home] (homer simpson): my tool shed oh dad\\n[downtown street] (waylon smithers): could i have shot mr burns in a drunken rage no no not me i know in my heart i\\n[downtown street] (smithers's brain): my gun and its been recently fired wait i remember leaving the town meeting\\n[downtown street] (waylon smithers): i mustve run into mr burns outside and\\n[downtown street] (waylon smithers): mr burns what have i done\\n[simpson home] (moe szyslak): hey homer us hotheads here is gonna go tear down burns sun blockin machine you wanna come with\\n[simpson home] (homer simpson): sure ive had it up to here with these damn rickets\\n[mt springfield] (groundskeeper willie): pull duchess pull\\n[mt springfield] (krusty the clown): um uh what town did we just crush\\n[mt springfield] (seymour skinner): shelbyville\\n[mt springfield] (townspeople): yay\\n[downtown street]\", mimetype='text/plain', start_char_idx=0, end_char_idx=3802, metadata_seperator='\\n', text_template='{metadata_str}\\n\\n{content}'),\n",
       " TextNode(id_='2679711a-f5df-421c-a170-071d34d90efe', embedding=None, metadata={}, excluded_embed_metadata_keys=[], excluded_llm_metadata_keys=[], relationships={<NodeRelationship.SOURCE: '1'>: RelatedNodeInfo(node_id='a821d937-df20-4bc1-b6e2-5eb3c7549530', node_type=<ObjectType.DOCUMENT: '4'>, metadata={}, hash='7174de92e8e437ada7f7ebb4a97f106f738b4da294c80af57b6a7f443c766a28'), <NodeRelationship.PREVIOUS: '2'>: RelatedNodeInfo(node_id='23eb7f7d-86af-4236-b154-073d4d4ba881', node_type=<ObjectType.TEXT: '1'>, metadata={}, hash='bf32818cc18bbf0fe52992a8d01608f03fefe1b5611a8087ce682639fb935f4d'), <NodeRelationship.NEXT: '3'>: RelatedNodeInfo(node_id='7319f3e4-afee-4084-ba28-9a538fa6f4a0', node_type=<ObjectType.TEXT: '1'>, metadata={}, hash='a73abda5030b6d7d73a5e8672ecfc3154bd8c4d44868b461d81fd902920149aa')}, metadata_template='{key}: {value}', metadata_separator='\\n', text='shelbyville\\n[mt springfield] (townspeople): yay\\n[downtown street] (waylon smithers): oh this guilt is driving me mad ive got to tell someone\\n[cathedral] (waylon smithers): father im not a catholic but well i tried to march in the st patricks day parade anyway ive got a rather large sin to confess im the one who who shot mr burns\\n[cathedral] (chief wiggum): thats all i needed to hear boy this thing works great\\n[springfield police station] (waylon smithers): the man became consumed by greed hed steal from anyone\\n[springfield police station] (waylon smithers): this isnt a rival company youre battling with its a school people wont stand for it\\n[springfield police station] (c. montgomery burns): pish-posh it will be like taking candy from a baby\\n[springfield police station] (c. montgomery burns): say that sounds like a larf\\n[springfield police station] (waylon smithers): and when he tried to steal our sunlight he crossed that line between everyday villainy and cartoonish super-villainy\\n[springfield police station] (super-villain): bah he was a rank amateur compared to dr colossus\\n[springfield police station] (super-villain): ow when is my lawyer coming\\n[springfield police station] (reporters): mr smithers smithers over here waylon\\n[springfield police station] (dave shutton): dave shutton springfield daily shopper who are you where are you going\\n[springfield police station] (kent brockman): oh do your research shutton ah kent brockman channel six news how does it feel to be accused of the attempted murder of your boss and mentor\\n[springfield police station] (waylon smithers): kent i i feel about as low as madonna when she found out she missed tailhook\\n[springfield police station] (kent brockman): im going to say ouch for madonna\\n[krusty office] (krusty the clown): hey thats my madonna gag that guy stole my gag\\n[krusty office] (sideshow mel): and you stole it from last fridays episode of pardon my zinger\\n[krusty office] (krusty the clown): stole made-up whats the difference\\n[krusty office] (sideshow mel): mr smithers must have seen that program too he never misses it hm\\n[krusty office] (sideshow mel): at the town meeting he mentioned that he watched comedy central i made sure to note that as it seemed quite unusual ye gods to the police station krusty\\n[springfield police station] (sideshow mel): i am melvin van horne and this is my associate herschel krustofsky\\n[springfield police station] (krusty the clown): hey hey\\n[springfield police station] (sideshow mel): officer you have arrested an innocent man\\n[springfield police station] (chief wiggum): really aw jeez\\n[springfield police station] (chief wiggum): all right colossus youre free to go but stay away from death mountain\\n[springfield police station] (super-villain): all my stuff is there\\n[springfield police station] (sideshow mel): i was referring to waylon smithers mr burns was shot friday at 300 pm -- the very time that smithers was at home watching pardon my zinger so you see he couldnt have done it\\n[springfield police station] (waylon smithers): yes youre right i remember now i - i watched that entire show in fact\\n[springfield police station] (waylon smithers): i left the town meeting early so i could get home in time\\n[springfield police station] (waylon smithers): agh ive gotta run or ill miss the opening rank-out\\n[springfield police station] (jasper beardly): slow down the sidewalks fer reglar walkin not fer fancy-walkin\\n[springfield police station] (waylon smithers): out of my way im in a hurry\\n[springfield police station] (jasper beardly): you simmer down ill letcha go\\n[springfield police station] (waylon smithers): so instead of wounding an evil old man i may have killed an innocent old man thats much worse\\n[springfield police station] (krusty the clown): about fifty-thousand volts worse if you know what i mean eeeeh bzzzt sizzle\\n[springfield police station] (chief wiggum): wait a minute if a second old geezer got shot how come nobody reported it\\n[springfield retirement castle] (chief wiggum): uh hi um can we take a look at your leg\\n[springfield retirement castle]', mimetype='text/plain', start_char_idx=3737, end_char_idx=7831, metadata_seperator='\\n', text_template='{metadata_str}\\n\\n{content}'),\n",
       " TextNode(id_='7319f3e4-afee-4084-ba28-9a538fa6f4a0', embedding=None, metadata={}, excluded_embed_metadata_keys=[], excluded_llm_metadata_keys=[], relationships={<NodeRelationship.SOURCE: '1'>: RelatedNodeInfo(node_id='a821d937-df20-4bc1-b6e2-5eb3c7549530', node_type=<ObjectType.DOCUMENT: '4'>, metadata={}, hash='7174de92e8e437ada7f7ebb4a97f106f738b4da294c80af57b6a7f443c766a28'), <NodeRelationship.PREVIOUS: '2'>: RelatedNodeInfo(node_id='2679711a-f5df-421c-a170-071d34d90efe', node_type=<ObjectType.TEXT: '1'>, metadata={}, hash='bec43ca7e77107fb64758bd89051d9e83b39db44ff4875c855691389c862e89c'), <NodeRelationship.NEXT: '3'>: RelatedNodeInfo(node_id='394e4706-5e6f-4a5e-97e1-cfc531bb44dd', node_type=<ObjectType.TEXT: '1'>, metadata={}, hash='4226ca5510ede1c548acde89093c2dd173135e37c7cd2d1d9fd38b1fdcd0d2c4')}, metadata_template='{key}: {value}', metadata_separator='\\n', text='uh hi um can we take a look at your leg\\n[springfield retirement castle] (jasper beardly): yeah thats real spruce you like it\\n[springfield retirement castle] (waylon smithers): phew thank god sir i i only hope you can forgive me for shooting your wooden leg\\n[springfield retirement castle] (jasper beardly): you shot who in the what now\\n[springfield retirement castle] (chief wiggum): okay smithers youre free to go and you one question do you know who shot mr burns cause we are really up the creek on this one\\n[simpson home] (kent brockman): and with the prime suspect cleared and found completely innocent we must now ask ourselves who could possibly be as bloodthirsty as waylon smithers\\n[simpson home] (marge simpson): i guess its never the most likely suspect\\n[simpson home] (lisa simpson): actually mom in 95 of cases it is the rest of the time its usually some deranged lunatic who did it for no reason\\n[simpson home] (homer simpson): hey i had a damn good reason he could never remember my name\\n[simpson home] (c. montgomery burns): who the devil are you\\n[simpson home] (homer simpson): homer simpson homer simpson\\n[simpson home] (lisa simpson): well i dont think anyone in this family is capable of attempted murder\\n[simpson home] (grampa simpson): eh you never know what youre capable of i never thought i could shoot down a german plane -- but last year i proved myself wrong\\n[simpson home] (lisa simpson): nancy drew says that all you need to solve a mystery is an inquisitive temperament and two good friends and ive got an inquisitive temperament maybe i could help solve this\\n[simpson home] (marge simpson): i think youre a little young to be investigating an attempted murder why dont you try to solve the mystery of who put that mud in the freezer\\n[simpson home] (bart simpson): who wants chocolate ice cream\\n[simpson home] (homer simpson): me me me me\\n[springfield police station] (chief wiggum): okay boys weve got a clue - the bullet they took out of burns now lets discuss the um\\n[springfield police station] (chief wiggum): motive\\n[springfield police station] (lisa simpson): mr burns is the richest man in town maybe it was about money\\n[springfield police station] (chief wiggum): thats some good thinking lou\\n[springfield police station] (lou): thanks chief\\n[springfield police station] (lisa simpson): hey i said that my name is lisa simpson and i made a chart of all the suspects in the burns case look\\n[springfield police station] (lisa simpson): mr burns hurt all these people financially nightclub owner moe szyslak his bar was closed because of burns negligence liquor connoisseur barney gumble when moes closed barney lost his only means of support -- sucking coins out of the love tester machine\\n[springfield police station] (eddie): thats a real good way to get sick\\n[springfield police station] (lisa simpson): dedicated educator principal seymour skinner his school lost millions when burns pirated its oil well and grounds-tender groundskeeper willie he lost his job and his dream of owning a fine crystal slop bucket\\n[springfield police station] (chief wiggum): hey what about that jazz teacher that got laid off you know um mister samba señor mambo what was it\\n[springfield police station] (lisa simpson): tito puente\\n[springfield police station] (chief wiggum): yeah\\n[springfield police station] (lisa simpson): well he did vow revenge but i cant see him doing something illegal -- hes in show business hes a celebrit--\\n[springfield police station] (chief wiggum): lets roll boys\\n[nightclub] (tito puente): revenge of course but why wound his body with bullets when i can set his soul afire with a slanderous mambo listen if you will to my revenge uno dos tres\\n[nightclub] (crooner): wounds wont last long but an insulting song burns will always carry with him so ill settle my score on the salsa floor with this vengeful latin rhythm bu-urns con el corazon de perro senor bu-urns el diablo con dinero\\n[nightclub] (crooner): this may not surprise you but all of us despise you please die and fry in hell you rotten rich old wretch adios viejo\\n[nightclub] (chief wiggum): yeah', mimetype='text/plain', start_char_idx=7760, end_char_idx=11874, metadata_seperator='\\n', text_template='{metadata_str}\\n\\n{content}'),\n",
       " TextNode(id_='394e4706-5e6f-4a5e-97e1-cfc531bb44dd', embedding=None, metadata={}, excluded_embed_metadata_keys=[], excluded_llm_metadata_keys=[], relationships={<NodeRelationship.SOURCE: '1'>: RelatedNodeInfo(node_id='a821d937-df20-4bc1-b6e2-5eb3c7549530', node_type=<ObjectType.DOCUMENT: '4'>, metadata={}, hash='7174de92e8e437ada7f7ebb4a97f106f738b4da294c80af57b6a7f443c766a28'), <NodeRelationship.PREVIOUS: '2'>: RelatedNodeInfo(node_id='7319f3e4-afee-4084-ba28-9a538fa6f4a0', node_type=<ObjectType.TEXT: '1'>, metadata={}, hash='a73abda5030b6d7d73a5e8672ecfc3154bd8c4d44868b461d81fd902920149aa'), <NodeRelationship.NEXT: '3'>: RelatedNodeInfo(node_id='1334f8a3-ff0d-47db-81b7-a8da176d9818', node_type=<ObjectType.TEXT: '1'>, metadata={}, hash='167d874446a413c10937bee6f1649ae0c1cd5472b2925adf88f8d35f387e3d51')}, metadata_template='{key}: {value}', metadata_separator='\\n', text='rich old wretch adios viejo\\n[nightclub] (chief wiggum): yeah okay okay i believe youre innocent gee i hope all the suspects are this much fun\\n[springfield elementary school] (seymour skinner): hum-m-m now-now let let me let me think\\n[springfield elementary school] (seymour skinner): now i did - i did go to the town meeting with the intention of ambushing mr burns when it adjourned i rushed to the lavatory to apply my camouflage makeup\\n[springfield elementary school] (seymour skinner): blast i took mothers makeup kit by mistake\\n[springfield elementary school] (gary chalmers): oh uh excuse me maam\\n[springfield elementary school] (seymour skinner): superintendent chalmers\\n[springfield elementary school] (gary chalmers): oh my god\\n[springfield elementary school] (chief wiggum): so superintendent chalmers can vouch for your whereabouts\\n[springfield elementary school] (seymour skinner): oh yes but anything else he tells you is a filthy lie\\n[springfield police station] (groundskeeper willie): im tellin ya i could nay have shot burns\\n[springfield police station] (eddie): this is your last warning about that\\n[springfield police station] (groundskeeper willie): its impossible for me to fire a pistol if youll check me medical records youll see i have a cripplin arthritis in me index fingers look at em\\n[springfield police station] (groundskeeper willie): i got it from space invaders in 1977\\n[springfield police station] (chief wiggum): oh yeah that was a pretty addictive video game\\n[springfield police station] (groundskeeper willie): video game\\n[springfield police station] (eddie): did you hold a grudge against montgomery burns\\n[springfield police station] (moe szyslak): no\\n[springfield police station] (moe szyslak): all right maybe i did but i didnt shoot him\\n[springfield police station] (eddie): checks out okay sir youre free to go\\n[springfield police station] (moe szyslak): good cause i got a hot date tonight a date dinner with friends dinner alone watching tv alone all right im gonna sit at home and ogle the ladies in the victorias secret catalog sears catalog\\n[springfield police station] (moe szyslak): now wouldja unhook this already please i dont deserve this kind of shabby treatment\\n[simpson home] (marge simpson): grampa i found your cigar box dug up in the backyard but the gun wasnt there have you seen it\\n[simpson home] (grampa simpson): you accuse me of everything around here who put slippers in the dishwasher who threw a cane at the tv who fell into the china hutch\\n[simpson home] (marge simpson): i was just asking if youd seen it theres no need to be a prickly pear\\n[simpson home] (grampa simpson): oh youre the bees knees baby i missed you bad\\n[simpson home] (marge simpson): were you talking to me grampa\\n[simpson home] (grampa simpson): um yes\\n[springfield police station] (chief wiggum): were still not close boy this is gonna be an all-night brain buster better drink some coffee\\n[springfield police station] (chief wiggum): oh were out of coffee oh well ill just drink this warm cream\\n[springfield police station] (lisa simpson): chief wig-gum dont eat the clues\\n[springfield police station] (lisa simpson): this suit burns better look\\n[springfield police station] (chief wiggum): huh\\n[springfield police station] (lisa simpson): better look burns suit\\n[springfield police station] (chief wiggum): im not following you\\n[springfield police station] (lisa simpson): burns suit burns suit\\n[springfield police station] (chief wiggum): huh\\n[springfield police station] (lisa simpson): look at burns suit yeesh\\n[springfield police station] (eddie): i had an idea chief why dont we check out that suit burns was wearing when he got shot\\n[springfield police station] (chief wiggum): did you have that same backwards-talking dream with the flamin cards\\n[springfield police station] (eddie): ill drive\\n[hospital] (chief wiggum): eureka\\n[hospital] (technician): ooh nice eyelash yours\\n[hospital] (chief wiggum): no we need to find out who it belonged to we want a dna', mimetype='text/plain', start_char_idx=11814, end_char_idx=15819, metadata_seperator='\\n', text_template='{metadata_str}\\n\\n{content}'),\n",
       " TextNode(id_='1334f8a3-ff0d-47db-81b7-a8da176d9818', embedding=None, metadata={}, excluded_embed_metadata_keys=[], excluded_llm_metadata_keys=[], relationships={<NodeRelationship.SOURCE: '1'>: RelatedNodeInfo(node_id='a821d937-df20-4bc1-b6e2-5eb3c7549530', node_type=<ObjectType.DOCUMENT: '4'>, metadata={}, hash='7174de92e8e437ada7f7ebb4a97f106f738b4da294c80af57b6a7f443c766a28'), <NodeRelationship.PREVIOUS: '2'>: RelatedNodeInfo(node_id='394e4706-5e6f-4a5e-97e1-cfc531bb44dd', node_type=<ObjectType.TEXT: '1'>, metadata={}, hash='4226ca5510ede1c548acde89093c2dd173135e37c7cd2d1d9fd38b1fdcd0d2c4'), <NodeRelationship.NEXT: '3'>: RelatedNodeInfo(node_id='ad62e63a-200b-469d-913c-9541ca325625', node_type=<ObjectType.TEXT: '1'>, metadata={}, hash='587f63ef276089f8dfd3e535a2dd012f984c9e899d55fb3f33b8bcb22ee76ef0')}, metadata_template='{key}: {value}', metadata_separator='\\n', text='(chief wiggum): no we need to find out who it belonged to we want a dna test\\n[hospital] (technician): ooh ooh ee ooh ooh that takes eight to ten weeks\\n[hospital] (technician): did i say weeks cause i meant seconds\\n[hospital] (chief wiggum): whaddya got the whole towns dna on file\\n[hospital] (technician): yuh-huh if youve ever handled a penny the governments got yer dna whyddya think they keep em in circulation\\n[hospital] (technician): scans finished now its gonna narrow it down to the family bloodline\\n[hospital] (c. montgomery burns): homer simpson\\n[hospital] (eddie): bingo the gunman has a name-o\\n[hospital] (lou): chief chief chief\\n[simpson home] (lisa simpson): hey chief wiggum what are you doing whats going on\\n[simpson home] (chief wiggum): im sorry kid we got simpson dna on burns clothing and your father was identified by the old man himself\\n[simpson home] (bart simpson): dna positive id -- those wont hold up in any court -- run dad\\n[simpson home] (lou): hey-ho look what i found under mr simpsons car seat\\n[simpson home] (homer simpson): i swear ive never seen that gun before\\n[simpson home] (eddie): then why are your fingerprints all over it sir\\n[simpson home] (chief wiggum): this bullet matches the one we took out of burns homer simpson youre under arrest for attempted murder\\n[simpson home] (chief wiggum): yeah thats what they all say they all say doh\\n[paddy wagon] (chief wiggum): yeah we need two cups of coffee and two orders of bite-size breakfast pancakes with extra dipping sauce\\n[paddy wagon] (teenage employee): please pull up to the service window please\\n[paddy wagon] (chief wiggum): the wagons too tall aw i dont wanna have to get out ah ill just drive up on the curb\\n[paddy wagon] (chief wiggum): ergh blugh almost got it\\n[paddy wagon] (lou): drop the food chief\\n[paddy wagon] (chief wiggum): noooooo\\n[paddy wagon] (jasper beardly): dang fools drive-thrus not fer a-parkin\\n[paddy wagon] (teenage employee): dianne im going to take my break now\\n[hospital] (dr. nick riviera): hi everybody\\n[hospital] (c. montgomery burns): ho mersimp son\\n[hospital] (dr. nick riviera): okay that was a little strange um tell me how are you feeling today\\n[hospital] (c. montgomery burns): ho-mer simpson homer simpson\\n[hospital] (dr.', mimetype='text/plain', start_char_idx=15748, end_char_idx=18000, metadata_seperator='\\n', text_template='{metadata_str}\\n\\n{content}'),\n",
       " TextNode(id_='ad62e63a-200b-469d-913c-9541ca325625', embedding=None, metadata={}, excluded_embed_metadata_keys=[], excluded_llm_metadata_keys=[], relationships={<NodeRelationship.SOURCE: '1'>: RelatedNodeInfo(node_id='a821d937-df20-4bc1-b6e2-5eb3c7549530', node_type=<ObjectType.DOCUMENT: '4'>, metadata={}, hash='7174de92e8e437ada7f7ebb4a97f106f738b4da294c80af57b6a7f443c766a28'), <NodeRelationship.PREVIOUS: '2'>: RelatedNodeInfo(node_id='1334f8a3-ff0d-47db-81b7-a8da176d9818', node_type=<ObjectType.TEXT: '1'>, metadata={}, hash='167d874446a413c10937bee6f1649ae0c1cd5472b2925adf88f8d35f387e3d51'), <NodeRelationship.NEXT: '3'>: RelatedNodeInfo(node_id='6c0d708d-8802-4700-8f00-ed76d55d1ada', node_type=<ObjectType.TEXT: '1'>, metadata={}, hash='cd29dd40c4fddf15ec6584bc43f250fe6019e1913530b7ed9a0675a9ff9108c7')}, metadata_template='{key}: {value}', metadata_separator='\\n', text='nick riviera): hmm that seems to be all you can say when you were in that coma did you feel your brain getting damaged\\n[simpson home] (marge simpson): the police have such a strong case against homer mr burns said he did it they have homers dna\\n[simpson home] (lisa simpson): they have simpson dna it couldve come from any of us except you since youre a bouvier\\n[simpson home] (marge simpson): no no no when i took your fathers name i took everything that came with it including dna\\n[simpson home] (lisa simpson): okay mom anyway my point is the evidence isnt as concrete as it seems like those fingerprints they couldve gotten on the gun some other way\\n[simpson home] (lisa simpson): are you sure you dont want me to hold one of your ice cream cones\\n[simpson home] (homer simpson): yeah right you chose fruit you live with fruit\\n[simpson home] (homer simpson): no no no ewww why is this on the floor\\n[simpson home] (lisa simpson): and we dont even know whose gun that was maybe somebody planted it there to frame dad\\n[simpson home] (marge simpson): no we cant start thinking that way about our own family members suspicion could tear us apart\\n[simpson home] (grampa simpson): thats right we all gotta stick together if were gonna have any hope of bringing that awful homer to justice\\n[springfield police station] (chief wiggum): here is a photo of the fugitive from our files\\n[springfield police station] (chief wiggum): and now waylon smithers -- ah whos been a real good sport about that wrongful arrest thing -- has a statement that he would like to make waylon\\n[springfield police station] (waylon smithers): thank you as montgomery burns closest friend i am certain that there is nothing he would want more than swift brutal revenge against homer simpson therefore i am offering a 50000 reward for his capture dead or alive\\n[springfield police station] (chief wiggum): me first me first\\n[hospital] (c. montgomery burns): homer simpson\\n[hospital] (homer simpson): so you finally learned my name eh\\n[hospital] (c. montgomery burns): homer simpson\\n[hospital] (homer simpson): ive got no time for your demented parlor games you wont be telling anyone else that homer simpson shot you\\n[springfield town hall] (lisa simpson): the scene of the crime there must be something here that can clear dad\\n[springfield town hall] (pigeon): clue clue\\n[springfield town hall] (lisa simpson): thats it oh mr pigeon id kiss you if you werent swimming with disease\\n[springfield town hall] (lisa simpson): so the dna was right it mustve been oh dad\\n[springfield town hall] (police dispatcher): attention all units homer simpson has been sighted proceed at once to marvin monroe memorial hospital\\n[springfield town hall] (apu nahasapeemapetilon): be careful when we capture him we cannot claim the reward unless we have fifty-one per cent of the carcass\\n[hospital] (lisa simpson): stop dont shoot my dad hes innocent he wouldnt hurt a fly\\n[hospital] (c. montgomery burns): ho-mer simp son ho mersimp son\\n[hospital] (homer simpson): stop telling them it was me ill kill you for saying it was me\\n[hospital] (c. montgomery burns): mersimp son what is the mer meaning of this smithers who is this beast thats shaking me\\n[hospital] (homer simpson): say it burns say i never shot you before\\n[hospital] (c. montgomery burns): shot by you im afraid not my primitive friend your kind has neither the cranial capacity nor the opposable digits to operate a firearm the one who shot me was\\n[hospital] (c. montgomery burns): ma maggie simpson\\n[hospital] (c. montgomery burns): with the sun blocker in place and the town aghast i was on top of the world\\n[hospital] (c. montgomery burns): so i wanted to kick up my heels and indulge my sweet tooth\\n[hospital] (c. montgomery burns): i feel like celebrating\\n[hospital] (c. montgomery burns): oh its you what are you so happy about\\n[hospital] (c. montgomery burns): i see\\n[hospital] (c.', mimetype='text/plain', start_char_idx=18001, end_char_idx=21903, metadata_seperator='\\n', text_template='{metadata_str}\\n\\n{content}'),\n",
       " TextNode(id_='6c0d708d-8802-4700-8f00-ed76d55d1ada', embedding=None, metadata={}, excluded_embed_metadata_keys=[], excluded_llm_metadata_keys=[], relationships={<NodeRelationship.SOURCE: '1'>: RelatedNodeInfo(node_id='a821d937-df20-4bc1-b6e2-5eb3c7549530', node_type=<ObjectType.DOCUMENT: '4'>, metadata={}, hash='7174de92e8e437ada7f7ebb4a97f106f738b4da294c80af57b6a7f443c766a28'), <NodeRelationship.PREVIOUS: '2'>: RelatedNodeInfo(node_id='ad62e63a-200b-469d-913c-9541ca325625', node_type=<ObjectType.TEXT: '1'>, metadata={}, hash='587f63ef276089f8dfd3e535a2dd012f984c9e899d55fb3f33b8bcb22ee76ef0')}, metadata_template='{key}: {value}', metadata_separator='\\n', text='montgomery burns): i see\\n[hospital] (c. montgomery burns): yes thats the one smithers had thwarted my attempt to take candy from a baby but with him out of the picture i was free to wallow in my own crapulance\\n[hospital] (c. montgomery burns): i think youd better drop it\\n[hospital] (c. montgomery burns): but the old exhume was misleading taking the candy proved exceedingly difficult\\n[hospital] (c. montgomery burns): i said drop it\\n[hospital] (c. montgomery burns): stricken i lurched forth in search of aide\\n[hospital] (c. montgomery burns): but finding only slacked jawed gawkers i gave up and collapsed on the sundial\\n[hospital] (lisa simpson): then with your last ounce of strength you pointed to w and s\\n[hospital] (lisa simpson): or from your point of view m and s maggie simpson\\n[hospital] (c. montgomery burns): what no with my last ounce of strength i sucked out my gold fillings and swallowed them those paramedics have sticky fingers\\n[hospital] (marge simpson): well im just relieved that homers safe and youve recovered and we can all get back to normal if maggie could talk im sure shed apologize for shooting you\\n[hospital] (c. montgomery burns): i afraid thats insufficient officer arrest the baby\\n[hospital] (chief wiggum): yeah right pops no jury in the world is gonna convict a baby mmm except maybe texas\\n[hospital] (marge simpson): besides she didnt mean it it was an accident', mimetype='text/plain', start_char_idx=21864, end_char_idx=23263, metadata_seperator='\\n', text_template='{metadata_str}\\n\\n{content}')]"
      ]
     },
     "execution_count": 14,
     "metadata": {},
     "output_type": "execute_result"
    }
   ],
   "source": [
    "nodes"
   ]
  },
  {
   "cell_type": "code",
   "execution_count": 15,
   "metadata": {},
   "outputs": [
    {
     "name": "stdout",
     "output_type": "stream",
     "text": [
      "14\n"
     ]
    }
   ],
   "source": [
    "print(len(nodes))"
   ]
  },
  {
   "cell_type": "markdown",
   "metadata": {},
   "source": [
    "# Indexing"
   ]
  },
  {
   "cell_type": "markdown",
   "metadata": {},
   "source": [
    "## Text Chunks → Knowledge Graph\n",
    "\n",
    "The GraphRAGExtractor class is designed to extract triples (subject-relation-object) from text and enrich them by adding descriptions for entities and relationships to their properties using an LLM.\n",
    "\n",
    "This functionality is similar to that of the `SimpleLLMPathExtractor`, but includes additional enhancements to handle entity, relationship descriptions. For guidance on implementation, you may look at similar existing [extractors](https://docs.llamaindex.ai/en/latest/examples/property_graph/Dynamic_KG_Extraction/?h=comparing).\n",
    "\n",
    "Other paths (i.e. triplets) extractors implemented in llamaindex include:\n",
    "- `SimpleLLMPathExtractor`\n",
    "- `SchemaLLMPathExtractor`\n",
    "- `DynamicLLMPathExtractor` -> This one allows to start with initial nodes, relationships and their corresponding properties.\n",
    "\n",
    "Here's a breakdown of its functionality:\n",
    "\n",
    "**Key Components:**\n",
    "\n",
    "1. `llm:` The language model used for extraction.\n",
    "2. `extract_prompt:` A prompt template used to guide the LLM in extracting information.\n",
    "3. `parse_fn:` A function to parse the LLM's output into structured data.\n",
    "4. `max_paths_per_chunk:` Limits the number of triples extracted per text chunk.\n",
    "5. `num_workers:` For parallel processing of multiple text nodes.\n",
    "\n",
    "\n",
    "**Main Methods:**\n",
    "\n",
    "1. `__call__:` The entry point for processing a list of text nodes.\n",
    "2. `acall:` An asynchronous version of __call__ for improved performance.\n",
    "3. `_aextract:` The core method that processes each individual node.\n",
    "\n",
    "\n",
    "**Extraction Process:**\n",
    "\n",
    "For each input node (chunk of text):\n",
    "1. It sends the text to the LLM along with the extraction prompt.\n",
    "2. The LLM's response is parsed to extract entities, relationships, descriptions for entities and relations.\n",
    "3. Entities are converted into `EntityNode` objects. Entity description is stored in metadata\n",
    "4. Relationships are converted into `Relation` objects. Relationship description is stored in metadata.\n",
    "5. These are added to the node's metadata under `KG_NODES_KEY` and `KG_RELATIONS_KEY`.\n",
    "\n",
    "**NOTE:** In the current implementation, we are using only relationship descriptions. In the next implementation, we will utilize entity descriptions during the retrieval stage."
   ]
  },
  {
   "cell_type": "code",
   "execution_count": 16,
   "metadata": {},
   "outputs": [],
   "source": [
    "# Notebook utilities to path event loop behavior (event loop is already running in ipython)\n",
    "import nest_asyncio\n",
    "nest_asyncio.apply()\n",
    "\n",
    "import asyncio\n",
    "\n",
    "from typing import Any, List, Callable, Optional, Union\n",
    "\n",
    "from llama_index.core.async_utils import run_jobs\n",
    "from llama_index.core.indices.property_graph.utils import (\n",
    "    default_parse_triplets_fn,\n",
    ")\n",
    "from llama_index.core.graph_stores.types import (\n",
    "    EntityNode,\n",
    "    Relation,\n",
    "    KG_NODES_KEY,\n",
    "    KG_RELATIONS_KEY,\n",
    ")\n",
    "from llama_index.core.llms.llm import LLM\n",
    "from llama_index.core.prompts import PromptTemplate\n",
    "from llama_index.core.prompts.default_prompts import (\n",
    "    DEFAULT_KG_TRIPLET_EXTRACT_PROMPT,\n",
    ")\n",
    "from llama_index.core.schema import TransformComponent, BaseNode\n",
    "from prompts import KG_TRIPLET_EXTRACT_TMPL\n",
    "\n",
    "\n",
    "class GraphRAGExtractor(TransformComponent):\n",
    "    \"\"\"Extract triples from a graph.\n",
    "\n",
    "    Uses an LLM and a simple prompt + output parsing to extract paths (i.e. triples) and entity, relation descriptions from text.\n",
    "\n",
    "    Args:\n",
    "        llm (LLM):\n",
    "            The language model to use.\n",
    "        extract_prompt (Union[str, PromptTemplate]):\n",
    "            The prompt to use for extracting triples.\n",
    "        parse_fn (callable):\n",
    "            A function to parse the output of the language model.\n",
    "        num_workers (int):\n",
    "            The number of workers to use for parallel processing.\n",
    "        max_paths_per_chunk (int):\n",
    "            The maximum number of paths to extract per chunk.\n",
    "    \"\"\"\n",
    "\n",
    "    llm: LLM\n",
    "    extract_prompt: PromptTemplate\n",
    "    parse_fn: Callable\n",
    "    num_workers: int\n",
    "    max_paths_per_chunk: int\n",
    "\n",
    "    def __init__(\n",
    "        self,\n",
    "        llm: Optional[LLM] = None,\n",
    "        extract_prompt: Optional[Union[str, PromptTemplate]] = None,\n",
    "        parse_fn: Callable = default_parse_triplets_fn,\n",
    "        max_paths_per_chunk: int = 10,\n",
    "        num_workers: int = 4,\n",
    "    ) -> None:\n",
    "        \"\"\"Init params.\"\"\"\n",
    "        from llama_index.core import Settings\n",
    "\n",
    "        if isinstance(extract_prompt, str):\n",
    "            extract_prompt = PromptTemplate(extract_prompt)\n",
    "\n",
    "        super().__init__(\n",
    "            llm=llm or Settings.llm,\n",
    "            extract_prompt=extract_prompt or DEFAULT_KG_TRIPLET_EXTRACT_PROMPT,\n",
    "            parse_fn=parse_fn,\n",
    "            num_workers=num_workers,\n",
    "            max_paths_per_chunk=max_paths_per_chunk,\n",
    "        )\n",
    "\n",
    "    @classmethod\n",
    "    def class_name(cls) -> str:\n",
    "        return \"GraphExtractor\"\n",
    "\n",
    "    def __call__(\n",
    "        self, nodes: List[BaseNode], show_progress: bool = False, **kwargs: Any\n",
    "    ) -> List[BaseNode]:\n",
    "        \"\"\"Extract triples from nodes.\"\"\"\n",
    "        return asyncio.run(\n",
    "            self.acall(nodes, show_progress=show_progress, **kwargs)\n",
    "        )\n",
    "\n",
    "    async def _aextract(self, node: BaseNode) -> BaseNode:\n",
    "        \"\"\"Extract triples from a node (chunk).\"\"\"\n",
    "        assert hasattr(node, \"text\")\n",
    "\n",
    "        text = node.get_content(metadata_mode=\"llm\")\n",
    "        # Extract entities and relationships from the text using the LLM\n",
    "        # and parse them into a list of JSON objects\n",
    "        # entities and relationships\n",
    "        try:\n",
    "            llm_response = await self.llm.apredict(\n",
    "                self.extract_prompt,\n",
    "                text=text,\n",
    "                max_knowledge_triplets=self.max_paths_per_chunk,\n",
    "            )\n",
    "            entities, entities_relationship = self.parse_fn(llm_response)\n",
    "        except ValueError:\n",
    "            entities = []\n",
    "            entities_relationship = []\n",
    "\n",
    "\t\t# Initialize\n",
    "        existing_nodes = node.metadata.pop(KG_NODES_KEY, [])\n",
    "        existing_relations = node.metadata.pop(KG_RELATIONS_KEY, [])\t\n",
    "        \t\n",
    "\t\t# Create EntityNode and Relation objects from parsed information\n",
    "        entity_metadata = node.metadata.copy()\n",
    "        for entity_name, entity_type, entity_description in entities:\n",
    "            entity_metadata[\"entity_description\"] = entity_description\n",
    "            entity_node = EntityNode(\n",
    "                name=entity_name, label=entity_type, properties=entity_metadata\n",
    "            )\n",
    "            existing_nodes.append(entity_node)\n",
    "\n",
    "\t\t# Create Relation objects from parsed information\n",
    "        relation_metadata = node.metadata.copy()\n",
    "        for triple in entities_relationship:\n",
    "            subj, obj, rel, description = triple\n",
    "            relation_metadata[\"relationship_description\"] = description\n",
    "            rel_node = Relation(\n",
    "                label=rel,\n",
    "                source_id=subj,\n",
    "                target_id=obj,\n",
    "                properties=relation_metadata,\n",
    "            )\n",
    "\n",
    "            existing_relations.append(rel_node)\n",
    "\t\t# Index them under the corresponding key\n",
    "        node.metadata[KG_NODES_KEY] = existing_nodes\n",
    "        node.metadata[KG_RELATIONS_KEY] = existing_relations\n",
    "        return node\n",
    "\n",
    "    async def acall(\n",
    "        self, nodes: List[BaseNode], show_progress: bool = False, **kwargs: Any\n",
    "    ) -> List[BaseNode]:\n",
    "        \"\"\"Extract triples from nodes async.\"\"\"\n",
    "        jobs = []\n",
    "        for node in nodes:\n",
    "            jobs.append(self._aextract(node))\n",
    "\n",
    "        return await run_jobs(\n",
    "            jobs,\n",
    "            workers=self.num_workers,\n",
    "            show_progress=show_progress,\n",
    "            desc=\"Extracting paths from text\",\n",
    "        )"
   ]
  },
  {
   "cell_type": "markdown",
   "metadata": {},
   "source": [
    "Function that parses the LLM response into structured data"
   ]
  },
  {
   "cell_type": "code",
   "execution_count": 17,
   "metadata": {},
   "outputs": [],
   "source": [
    "import json\n",
    "\n",
    "def parse_fn(response_str: str) -> Any:\n",
    "    json_pattern = r\"\\{.*\\}\"\n",
    "    match = re.search(json_pattern, response_str, re.DOTALL)\n",
    "    entities = []\n",
    "    relationships = []\n",
    "    if not match:\n",
    "        return entities, relationships\n",
    "    json_str = match.group(0)\n",
    "    try:\n",
    "        data = json.loads(json_str)\n",
    "        entities = [\n",
    "            (\n",
    "                entity[\"entity_name\"],\n",
    "                entity[\"entity_type\"],\n",
    "                entity[\"entity_description\"],\n",
    "            )\n",
    "            for entity in data.get(\"entities\", [])\n",
    "        ]\n",
    "        relationships = [\n",
    "            (\n",
    "                relation[\"source_entity\"],\n",
    "                relation[\"target_entity\"],\n",
    "                relation[\"relation\"],\n",
    "                relation[\"relationship_description\"],\n",
    "            )\n",
    "            for relation in data.get(\"relationships\", [])\n",
    "        ]\n",
    "        return entities, relationships\n",
    "    except json.JSONDecodeError as e:\n",
    "        print(\"Error parsing JSON:\", e)\n",
    "        return entities, relationships"
   ]
  },
  {
   "cell_type": "markdown",
   "metadata": {},
   "source": [
    "## Knowledge Graph → Graph Communities and Community Summaries"
   ]
  },
  {
   "cell_type": "markdown",
   "metadata": {},
   "source": [
    "The `GraphRAGStore` class is an extension of the `Neo4jPropertyGraphStore`class, designed to implement GraphRAG pipeline. Here's a breakdown of its key components and functions:\n",
    "\n",
    "The class uses community detection algorithms to group related nodes in the graph and then it generates summaries for each community using an LLM.\n",
    "\n",
    "\n",
    "**Key Methods:**\n",
    "\n",
    "`build_communities():`\n",
    "\n",
    "1. Converts the internal graph representation to a NetworkX graph.\n",
    "\n",
    "2. Applies the hierarchical Leiden algorithm for community detection.\n",
    "\n",
    "3. Collects detailed information about each community.\n",
    "\n",
    "4. Generates summaries for each community.\n",
    "\n",
    "`generate_community_summary(text):`\n",
    "\n",
    "1. Uses LLM to generate a summary of the relationships in a community.\n",
    "2. The summary includes entity names and a synthesis of relationship descriptions.\n",
    "\n",
    "`_create_nx_graph():`\n",
    "\n",
    "1. Converts the internal graph representation to a NetworkX graph for community detection.\n",
    "\n",
    "`_collect_community_info(nx_graph, clusters):`\n",
    "\n",
    "1. Collects detailed information about each node based on its community.\n",
    "2. Creates a string representation of each relationship within a community.\n",
    "\n",
    "`_summarize_communities(community_info):`\n",
    "\n",
    "1. Generates and stores summaries for each community using LLM.\n",
    "\n",
    "`get_community_summaries():`\n",
    "\n",
    "1. Returns the community summaries by building them if not already done."
   ]
  },
  {
   "cell_type": "code",
   "execution_count": 18,
   "metadata": {},
   "outputs": [
    {
     "name": "stderr",
     "output_type": "stream",
     "text": [
      "/Users/nicolasroldan/Documents/Loka/Pycon2025/graph-rag-simpsons/.venv/lib/python3.11/site-packages/graspologic/layouts/colors.py:13: UserWarning: pkg_resources is deprecated as an API. See https://setuptools.pypa.io/en/latest/pkg_resources.html. The pkg_resources package is slated for removal as early as 2025-11-30. Refrain from using this package or pin to Setuptools<81.\n",
      "  import pkg_resources\n"
     ]
    }
   ],
   "source": [
    "import re\n",
    "import networkx as nx\n",
    "from graspologic.partition import hierarchical_leiden\n",
    "from collections import defaultdict\n",
    "\n",
    "from llama_index.core.llms import ChatMessage\n",
    "from llama_index.graph_stores.neo4j import Neo4jPropertyGraphStore\n",
    "from prompts import COMMUNITY_SUMMARY_TMPL\n",
    "\n",
    "\n",
    "\n",
    "class GraphRAGStore(Neo4jPropertyGraphStore):\n",
    "    community_summary = {}\n",
    "    entity_info = None\n",
    "    max_cluster_size = 5\n",
    "    llm: LLM\n",
    "\n",
    "    def build_communities(self):\n",
    "        \"\"\"Builds communities from the graph and summarizes them.\"\"\"\n",
    "        nx_graph = self._create_nx_graph()\n",
    "        # Use Leiden algorithm to create communities\n",
    "        community_hierarchical_clusters = hierarchical_leiden(\n",
    "            nx_graph, max_cluster_size=self.max_cluster_size\n",
    "        )\n",
    "        self.entity_info, community_info = self._collect_community_info(\n",
    "            nx_graph, community_hierarchical_clusters\n",
    "        )\n",
    "        self._summarize_communities(community_info)\n",
    "\n",
    "    def _create_nx_graph(self):\n",
    "        \"\"\"Converts internal graph representation to NetworkX graph.\"\"\"\n",
    "        nx_graph = nx.Graph()\n",
    "        triplets = self.get_triplets()\n",
    "        for entity1, relation, entity2 in triplets:\n",
    "            nx_graph.add_node(entity1.name)\n",
    "            nx_graph.add_node(entity2.name)\n",
    "            nx_graph.add_edge(\n",
    "                relation.source_id,\n",
    "                relation.target_id,\n",
    "                relationship=relation.label,\n",
    "                description=relation.properties[\"relationship_description\"],\n",
    "            )\n",
    "        return nx_graph\n",
    "\n",
    "    def _collect_community_info(self, nx_graph, clusters):\n",
    "        \"\"\"\n",
    "        Collect information for each node based on their community,\n",
    "        allowing entities to belong to multiple clusters.\n",
    "        \"\"\"\n",
    "        entity_info = defaultdict(set)\n",
    "        community_info = defaultdict(list)\n",
    "\n",
    "        for item in clusters:\n",
    "            node = item.node\n",
    "            cluster_id = item.cluster\n",
    "\n",
    "            # Update entity_info\n",
    "            entity_info[node].add(cluster_id)\n",
    "\n",
    "\t\t\t# Get information about the neighbors of a given node, including relationship and description\n",
    "            for neighbor in nx_graph.neighbors(node):\n",
    "                edge_data = nx_graph.get_edge_data(node, neighbor)\n",
    "                if edge_data:\n",
    "                    detail = f\"{node} -> {neighbor} -> {edge_data['relationship']} -> {edge_data['description']}\"\n",
    "                    community_info[cluster_id].append(detail)\n",
    "\n",
    "        # Convert sets to lists for easier serialization if needed\n",
    "        entity_info = {k: list(v) for k, v in entity_info.items()}\n",
    "\n",
    "        return dict(entity_info), dict(community_info)\n",
    "\n",
    "    def generate_community_summary(self, text):\n",
    "        \"\"\"Generate summary for a given text using an LLM.\"\"\"\n",
    "        messages = [\n",
    "            ChatMessage(\n",
    "                role=\"system\",\n",
    "                content=COMMUNITY_SUMMARY_TMPL,\n",
    "            ),\n",
    "            ChatMessage(role=\"user\", content=text),\n",
    "        ]\n",
    "        response = llm.chat(messages)\n",
    "        clean_response = re.sub(r\"^assistant:\\s*\", \"\", str(response)).strip()\n",
    "        return clean_response\n",
    "\n",
    "    def _summarize_communities(self, community_info):\n",
    "        \"\"\"Generate and store summaries for each community.\"\"\"\n",
    "        for community_id, details in community_info.items():\n",
    "            details_text = (\n",
    "                \"\\n\".join(details) + \".\"\n",
    "            )  # Ensure it ends with a period\n",
    "            self.community_summary[\n",
    "                community_id\n",
    "            ] = self.generate_community_summary(details_text)\n",
    "\n",
    "    def get_community_summaries(self):\n",
    "        \"\"\"Returns the community summaries, building them if not already done.\"\"\"\n",
    "        if not self.community_summary:\n",
    "            self.build_communities()\n",
    "        return self.community_summary"
   ]
  },
  {
   "cell_type": "markdown",
   "metadata": {},
   "source": [
    "# Querying"
   ]
  },
  {
   "cell_type": "markdown",
   "metadata": {},
   "source": [
    "## Community Summaries → Community Answers → Global Answer"
   ]
  },
  {
   "cell_type": "markdown",
   "metadata": {},
   "source": [
    "The GraphRAGQueryEngine class is a custom query engine designed to process queries using the GraphRAG approach. It leverages the community summaries generated by the GraphRAGStore to answer user queries. Here's a breakdown of its functionality:\n",
    "\n",
    "**Main Components:**\n",
    "\n",
    "`graph_store:` An instance of GraphRAGStore, which contains the community summaries.\n",
    "`llm:` A Language Model (LLM) used for generating and aggregating answers.\n",
    "\n",
    "\n",
    "**Key Methods:**\n",
    "\n",
    "`custom_query(query_str: str)`\n",
    "\n",
    "1. This is the main entry point for processing a query. It retrieves community summaries, generates answers from each summary, and then aggregates these answers into a final response.\n",
    "\n",
    "`generate_answer_from_summary(community_summary, query):`\n",
    "\n",
    "1. Generates an answer for the query based on a single community summary.\n",
    "Uses the LLM to interpret the community summary in the context of the query.\n",
    "\n",
    "`aggregate_answers(community_answers):`\n",
    "\n",
    "1. Combines individual answers from different communities into a coherent final response.\n",
    "2. Uses the LLM to synthesize multiple perspectives into a single, concise answer.\n",
    "\n",
    "\n",
    "**Query Processing Flow:**\n",
    "\n",
    "1. Retrieve community summaries from the graph store.\n",
    "2. For each community summary, generate a specific answer to the query.\n",
    "3. Aggregate all community-specific answers into a final, coherent response.\n",
    "\n",
    "\n",
    "**Example usage:**\n",
    "\n",
    "```\n",
    "query_engine = GraphRAGQueryEngine(graph_store=graph_store, llm=llm)\n",
    "\n",
    "response = query_engine.query(\"query\")\n",
    "```"
   ]
  },
  {
   "cell_type": "code",
   "execution_count": 19,
   "metadata": {},
   "outputs": [],
   "source": [
    "from llama_index.core.query_engine import CustomQueryEngine\n",
    "from llama_index.core import PropertyGraphIndex\n",
    "import re\n",
    "\n",
    "\n",
    "class GraphRAGQueryEngine(CustomQueryEngine):\n",
    "    graph_store: GraphRAGStore\n",
    "    index: PropertyGraphIndex\n",
    "    llm: LLM\n",
    "    similarity_top_k: int = 20\n",
    "\n",
    "    def custom_query(self, query_str: str) -> str:\n",
    "        \"\"\"Process all community summaries to generate answers to a specific query.\"\"\"\n",
    "\n",
    "        entities = self.get_entities(query_str, self.similarity_top_k)\n",
    "\n",
    "        community_ids = self.retrieve_entity_communities(\n",
    "            self.graph_store.entity_info, entities\n",
    "        )\n",
    "        community_summaries = self.graph_store.get_community_summaries()\n",
    "        community_answers = [\n",
    "            self.generate_answer_from_summary(community_summary, query_str)\n",
    "            for id, community_summary in community_summaries.items()\n",
    "            if id in community_ids\n",
    "        ]\n",
    "\n",
    "        final_answer = self.aggregate_answers(community_answers)\n",
    "        return final_answer\n",
    "\n",
    "    def get_entities(self, query_str, similarity_top_k):\n",
    "        nodes_retrieved = self.index.as_retriever(\n",
    "            similarity_top_k=similarity_top_k\n",
    "        ).retrieve(query_str)\n",
    "\n",
    "        enitites = set()\n",
    "        pattern = (\n",
    "            r\"^(\\w+(?:\\s+\\w+)*)\\s*->\\s*([a-zA-Z\\s]+?)\\s*->\\s*(\\w+(?:\\s+\\w+)*)$\"\n",
    "        )\n",
    "\n",
    "        for node in nodes_retrieved:\n",
    "            matches = re.findall(\n",
    "                pattern, node.text, re.MULTILINE | re.IGNORECASE\n",
    "            )\n",
    "\n",
    "            for match in matches:\n",
    "                subject = match[0]\n",
    "                obj = match[2]\n",
    "                enitites.add(subject)\n",
    "                enitites.add(obj)\n",
    "\n",
    "        return list(enitites)\n",
    "\n",
    "    def retrieve_entity_communities(self, entity_info, entities):\n",
    "        \"\"\"\n",
    "        Retrieve cluster information for given entities, allowing for multiple clusters per entity.\n",
    "\n",
    "        Args:\n",
    "        entity_info (dict): Dictionary mapping entities to their cluster IDs (list).\n",
    "        entities (list): List of entity names to retrieve information for.\n",
    "\n",
    "        Returns:\n",
    "        List of community or cluster IDs to which an entity belongs.\n",
    "        \"\"\"\n",
    "        community_ids = []\n",
    "\n",
    "        for entity in entities:\n",
    "            if entity in entity_info:\n",
    "                community_ids.extend(entity_info[entity])\n",
    "\n",
    "        return list(set(community_ids))\n",
    "\n",
    "    def generate_answer_from_summary(self, community_summary, query):\n",
    "        \"\"\"Generate an answer from a community summary based on a given query using LLM.\"\"\"\n",
    "        prompt = (\n",
    "            f\"Given the community summary: {community_summary}, \"\n",
    "            f\"how would you answer the following query? Query: {query}\"\n",
    "        )\n",
    "        messages = [\n",
    "            ChatMessage(role=\"system\", content=prompt),\n",
    "            ChatMessage(\n",
    "                role=\"user\",\n",
    "                content=\"I need an answer based on the above information.\",\n",
    "            ),\n",
    "        ]\n",
    "        response = self.llm.chat(messages)\n",
    "        cleaned_response = re.sub(r\"^assistant:\\s*\", \"\", str(response)).strip()\n",
    "        return cleaned_response\n",
    "\n",
    "    def aggregate_answers(self, community_answers):\n",
    "        \"\"\"Aggregate individual community answers into a final, coherent response.\"\"\"\n",
    "        prompt = \"Combine the following intermediate answers into a final, concise response.\"\n",
    "        messages = [\n",
    "            ChatMessage(role=\"system\", content=prompt),\n",
    "            ChatMessage(\n",
    "                role=\"user\",\n",
    "                content=f\"Intermediate answers: {community_answers}\",\n",
    "            ),\n",
    "        ]\n",
    "        final_response = self.llm.chat(messages)\n",
    "        cleaned_final_response = re.sub(\n",
    "            r\"^assistant:\\s*\", \"\", str(final_response)\n",
    "        ).strip()\n",
    "        return cleaned_final_response"
   ]
  },
  {
   "cell_type": "markdown",
   "metadata": {},
   "source": [
    "##  Build End to End GraphRAG Pipeline\n",
    "\n",
    "Now that we have defined all the necessary components, let’s construct the GraphRAG pipeline:\n",
    "\n",
    "1. Create nodes/chunks from the text.\n",
    "2. Build a PropertyGraphIndex using `GraphRAGExtractor` and `GraphRAGStore`.\n",
    "3. Construct communities and generate a summary for each community using the graph built above.\n",
    "4. Create a `GraphRAGQueryEngine` and begin querying."
   ]
  },
  {
   "cell_type": "markdown",
   "metadata": {},
   "source": [
    "### Build ProperGraphIndex using `GraphRAGExtractor` and `GraphRAGStore`"
   ]
  },
  {
   "cell_type": "code",
   "execution_count": 20,
   "metadata": {},
   "outputs": [],
   "source": [
    "kg_extractor = GraphRAGExtractor(\n",
    "    # LLM model to use for extracting triplets\n",
    "    llm=llm,\n",
    "    # Prompt passed to the LLM to extract triplets\n",
    "    extract_prompt=KG_TRIPLET_EXTRACT_TMPL,\n",
    "    # Maximum number of triplets to extract per chunk\n",
    "    max_paths_per_chunk=2,\n",
    "    # Function to parse the output of the LLM\n",
    "    parse_fn=parse_fn,\n",
    ")"
   ]
  },
  {
   "cell_type": "code",
   "execution_count": 21,
   "metadata": {},
   "outputs": [],
   "source": [
    "# Note: used to be `Neo4jPGStore`\n",
    "graph_store = GraphRAGStore(\n",
    "    username=\"neo4j\", \n",
    "    password=\"neo4j123\",\n",
    "    # Copy from Neo4j desktop\n",
    "    url=\"neo4j://127.0.0.1:7687\",\n",
    "    # database name\n",
    "    database=\"simpsons\",\n",
    ")\n",
    "# LLM model to use for generating community summaries\n",
    "graph_store.llm = llm"
   ]
  },
  {
   "cell_type": "code",
   "execution_count": 22,
   "metadata": {},
   "outputs": [
    {
     "name": "stderr",
     "output_type": "stream",
     "text": [
      "Extracting paths from text: 100%|██████████| 14/14 [12:56<00:00, 55.50s/it]\n",
      "Generating embeddings: 100%|██████████| 2/2 [00:05<00:00,  2.88s/it]\n",
      "Generating embeddings: 100%|██████████| 7/7 [00:01<00:00,  3.95it/s]\n"
     ]
    }
   ],
   "source": [
    "\n",
    "index = PropertyGraphIndex(\n",
    "    # Documents to index\n",
    "    nodes=nodes,\n",
    "    # Embedding model to use for indexing\n",
    "    embed_model=ollama_embedding,\n",
    "    # LLM model to use for querying\n",
    "    llm=llm,\n",
    "    # Knowledge graph extractor\n",
    "    kg_extractors=[kg_extractor],\n",
    "    # Graph store and community and community summary building logic\n",
    "    property_graph_store=graph_store,\n",
    "    show_progress=True,\n",
    ")"
   ]
  },
  {
   "cell_type": "code",
   "execution_count": 23,
   "metadata": {},
   "outputs": [
    {
     "data": {
      "text/plain": [
       "[EntityNode(label='Person', embedding=None, properties={'id': 'Homer Simpson', 'entity_description': 'A person who is forgetful.', 'triplet_source_id': '9aef38af-2e0f-45a8-b849-acc6a0d66745'}, name='Homer Simpson'),\n",
       " Relation(label='breaks', source_id='Homer Simpson', target_id='Piggy Bank', properties={'triplet_source_id': '0b54bf65-b79d-42fd-b2a9-9a1284f5a928', 'relationship_description': 'Homer breaks open his piggy bank in a moment of despair.'}),\n",
       " EntityNode(label='Object', embedding=None, properties={'id': 'Piggy Bank', 'entity_description': 'A container used for saving money, which Homer breaks open in a moment of despair.', 'triplet_source_id': '0b54bf65-b79d-42fd-b2a9-9a1284f5a928'}, name='Piggy Bank')]"
      ]
     },
     "execution_count": 23,
     "metadata": {},
     "output_type": "execute_result"
    }
   ],
   "source": [
    "index.property_graph_store.get_triplets()[10]"
   ]
  },
  {
   "cell_type": "code",
   "execution_count": 24,
   "metadata": {},
   "outputs": [
    {
     "data": {
      "text/plain": [
       "{'id': 'Homer Simpson',\n",
       " 'entity_description': 'A person who is forgetful.',\n",
       " 'triplet_source_id': '9aef38af-2e0f-45a8-b849-acc6a0d66745'}"
      ]
     },
     "execution_count": 24,
     "metadata": {},
     "output_type": "execute_result"
    }
   ],
   "source": [
    "index.property_graph_store.get_triplets()[10][0].properties"
   ]
  },
  {
   "cell_type": "code",
   "execution_count": 26,
   "metadata": {},
   "outputs": [
    {
     "data": {
      "text/plain": [
       "{'triplet_source_id': '0b54bf65-b79d-42fd-b2a9-9a1284f5a928',\n",
       " 'relationship_description': 'Homer breaks open his piggy bank in a moment of despair.'}"
      ]
     },
     "execution_count": 26,
     "metadata": {},
     "output_type": "execute_result"
    }
   ],
   "source": [
    "index.property_graph_store.get_triplets()[10][1].properties"
   ]
  },
  {
   "cell_type": "markdown",
   "metadata": {},
   "source": [
    "### Build communities\n",
    "\n",
    "This will create communities and summary for each community."
   ]
  },
  {
   "cell_type": "code",
   "execution_count": 27,
   "metadata": {},
   "outputs": [],
   "source": [
    "index.property_graph_store.build_communities()"
   ]
  },
  {
   "cell_type": "markdown",
   "metadata": {},
   "source": [
    "### Create QueryEngine"
   ]
  },
  {
   "cell_type": "code",
   "execution_count": 58,
   "metadata": {},
   "outputs": [],
   "source": [
    "query_engine = GraphRAGQueryEngine(\n",
    "    graph_store=index.property_graph_store,\n",
    "    # llm to answer the query given community summaries\n",
    "    llm=llm,\n",
    "    index=index,\n",
    "    similarity_top_k=10,\n",
    ")"
   ]
  },
  {
   "cell_type": "code",
   "execution_count": 59,
   "metadata": {},
   "outputs": [],
   "source": [
    "from IPython.display import display, Markdown"
   ]
  },
  {
   "cell_type": "code",
   "execution_count": 60,
   "metadata": {},
   "outputs": [
    {
     "data": {
      "text/markdown": [
       "Based on the provided summaries, **the information does not explicitly state who shot Mr. Burns or the motive.** While some summaries indicate Homer Simpson was revealed to have shot Mr. Burns, and Lisa Simpson is investigating an attempted murder of Mr. Burns, none of the summaries provide a clear explanation of the motive behind the shooting. The summaries primarily focus on relationships, investigations, and potential connections to legal suits, but lack the specific details regarding the perpetrator and their reason for the act."
      ],
      "text/plain": [
       "<IPython.core.display.Markdown object>"
      ]
     },
     "metadata": {},
     "output_type": "display_data"
    }
   ],
   "source": [
    "nest_asyncio.apply()\n",
    "\n",
    "response = query_engine.query(\n",
    "    \"Who ultimately was revealed to have shot Mr. Burns, and what was the motive?\"\n",
    ")\n",
    "display(Markdown(f\"{response.response}\"))"
   ]
  },
  {
   "cell_type": "code",
   "execution_count": 62,
   "metadata": {},
   "outputs": [
    {
     "data": {
      "text/markdown": [
       "The provided summaries indicate that Homer Simpson was arrested for attempted murder of Mr. Burns based on DNA evidence linking Homer to the crime scene (found on Burns' clothing) and a match between their DNA.  However, the summaries **do not explicitly state that Homer was identified as the shooter** or detail the specific evidence used for identification.  The summaries focus on Homer's DNA being present at the crime scene and his possession of a gun, which led to his arrest.  The summaries also mention Chief Wiggum's investigation and a possible avenue of investigation involving Mr. Burns' legal issues, but no definitive evidence linking a specific shooter has been identified. Therefore, based solely on the provided text, **there is no evidence to definitively identify a shooter.**"
      ],
      "text/plain": [
       "<IPython.core.display.Markdown object>"
      ]
     },
     "metadata": {},
     "output_type": "display_data"
    }
   ],
   "source": [
    "nest_asyncio.apply()\n",
    "\n",
    "response = query_engine.query(\n",
    "    \"What evidence led to the identification of the shooter?\"\n",
    ")\n",
    "display(Markdown(f\"{response.response}\"))"
   ]
  },
  {
   "cell_type": "code",
   "execution_count": 64,
   "metadata": {},
   "outputs": [
    {
     "data": {
      "text/markdown": [
       "Based on the provided summaries, **Homer Simpson** is the only character explicitly mentioned as having directly interacted with Mr. Burns on the day of the shooting.  The summaries indicate Homer shot Mr. Burns, and his DNA was found at the crime scene, implying a direct interaction. While other characters have relationships with Mr. Burns, the data doesn't specify direct interaction on the day of the shooting.  Maggie Simpson also had a direct interaction with Mr. Burns, finding Bobo, but this is related to the aftermath of the shooting, not the event itself.  The summaries lack detailed information about who else may have been present or interacted with Mr. Burns on that specific day."
      ],
      "text/plain": [
       "<IPython.core.display.Markdown object>"
      ]
     },
     "metadata": {},
     "output_type": "display_data"
    }
   ],
   "source": [
    "nest_asyncio.apply()\n",
    "\n",
    "response = query_engine.query(\n",
    "    \"Which characters interacted directly with Mr. Burns on the day of the shooting?\"\n",
    ")\n",
    "display(Markdown(f\"{response.response}\"))"
   ]
  },
  {
   "cell_type": "code",
   "execution_count": 66,
   "metadata": {},
   "outputs": [
    {
     "data": {
      "text/markdown": [
       "Based on the provided summaries, the top 5 recurring themes in *The Simpsons* episodes are: **Exploitation and Greed** (particularly concerning Mr. Burns), **Consequences of Actions** (and revenge/retribution stemming from them), **Family Relationships**, **Conflict & Antagonists** (often involving Bart and Mr. Burns), and **Power and Control** (especially as demonstrated by Mr. Burns).  Other prominent themes include **Negligence and its Consequences**, **Financial Harm and Exploitation**, and **Investigation and Legal Matters**.  It's important to note that the prominence of these themes varies depending on the specific source (episode summaries, knowledge graphs, or community discussions). Some summaries focus on specific characters (Lisa Simpson, Homer Simpson) or events (the investigation of Mr. Burns' shooting), while others provide broader overviews of the show's recurring elements.  However, the core themes of greed, consequences, family, and conflict consistently emerge across multiple sources."
      ],
      "text/plain": [
       "<IPython.core.display.Markdown object>"
      ]
     },
     "metadata": {},
     "output_type": "display_data"
    }
   ],
   "source": [
    "nest_asyncio.apply()\n",
    "\n",
    "response = query_engine.query(\n",
    "    \"What are the top 5 themes discussed in the episodes?\"\n",
    ")\n",
    "display(Markdown(f\"{response.response}\"))"
   ]
  },
  {
   "cell_type": "code",
   "execution_count": 68,
   "metadata": {},
   "outputs": [
    {
     "data": {
      "text/markdown": [
       "The provided summaries consistently state that **there is no information about clues discovered by Chief Wiggum during an investigation.**  The summaries focus on various aspects of the Simpson family, Springfield residents, and events, but Chief Wiggum is rarely mentioned, and no specific details regarding his investigations or discoveries are provided.  One summary *implies* a potential clue – a suggestion to investigate Montgomery Burns' suit – but this is not a confirmed discovery by Chief Wiggum.  Therefore, the consensus is that **the summaries do not contain any information about clues discovered by Chief Wiggum.**\n",
       "\n",
       "\n",
       "\n",
       "The summaries *do* mention the following clues discovered by Chief Wiggum:\n",
       "\n",
       "*   **DNA evidence linking Homer Simpson to the crime scene:** Homer Simpson's DNA was found on Burns' clothing.\n",
       "*   **DNA match between Burns and Homer Simpson:** Burns' DNA matches Homer Simpson's, suggesting a potential connection between them.\n",
       "*   **The attempted murder of Burns:** Chief Wiggum is investigating an attempted murder of Burns.\n",
       "*   **Homer Simpson's arrest:** Chief Wiggum arrested Homer Simpson in connection with the attempted murder of Burns."
      ],
      "text/plain": [
       "<IPython.core.display.Markdown object>"
      ]
     },
     "metadata": {},
     "output_type": "display_data"
    }
   ],
   "source": [
    "nest_asyncio.apply()\n",
    "\n",
    "response = query_engine.query(\n",
    "    \"What clues were discovered by Chief Wiggum during the investigation?\"\n",
    ")\n",
    "display(Markdown(f\"{response.response}\"))"
   ]
  }
 ],
 "metadata": {
  "colab": {
   "provenance": []
  },
  "kernelspec": {
   "display_name": "llamaindex",
   "language": "python",
   "name": "python3"
  },
  "language_info": {
   "codemirror_mode": {
    "name": "ipython",
    "version": 3
   },
   "file_extension": ".py",
   "mimetype": "text/x-python",
   "name": "python",
   "nbconvert_exporter": "python",
   "pygments_lexer": "ipython3",
   "version": "3.11.9"
  }
 },
 "nbformat": 4,
 "nbformat_minor": 0
}
